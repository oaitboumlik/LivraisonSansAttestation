{
 "metadata": {
  "language_info": {
   "codemirror_mode": {
    "name": "ipython",
    "version": 3
   },
   "file_extension": ".py",
   "mimetype": "text/x-python",
   "name": "python",
   "nbconvert_exporter": "python",
   "pygments_lexer": "ipython3",
   "version": "3.7.8-final"
  },
  "orig_nbformat": 2,
  "kernelspec": {
   "name": "python3",
   "display_name": "Python 3"
  }
 },
 "nbformat": 4,
 "nbformat_minor": 2,
 "cells": [
  {
   "cell_type": "code",
   "execution_count": 1,
   "metadata": {},
   "outputs": [],
   "source": [
    "import pandas as pd\n",
    "import numpy as np\n",
    "import matplotlib.pyplot as plt"
   ]
  },
  {
   "cell_type": "code",
   "execution_count": 2,
   "metadata": {},
   "outputs": [],
   "source": [
    "from prepare_data import preprocess"
   ]
  },
  {
   "cell_type": "code",
   "execution_count": 5,
   "metadata": {},
   "outputs": [],
   "source": [
    "raw_convention = pd.read_csv('data/comptages-routiers-permanents-convention.csv', sep=\";\")\n",
    "raw_champs = pd.read_csv('data/comptages-routiers-permanents-champs.csv', sep=\";\")\n",
    "raw_peres = pd.read_csv('data/comptages-routiers-permanents-peres.csv', sep=\";\")"
   ]
  },
  {
   "cell_type": "code",
   "execution_count": 7,
   "metadata": {},
   "outputs": [
    {
     "output_type": "execute_result",
     "data": {
      "text/plain": [
       "                           Débit horaire  Taux d'occupation  \\\n",
       "Date et heure de comptage                                     \n",
       "2019-11-01 03:00:00+00:00          323.0            1.67722   \n",
       "2019-11-01 04:00:00+00:00          272.0            1.41056   \n",
       "2019-11-01 05:00:00+00:00          240.0            1.35667   \n",
       "2019-11-01 06:00:00+00:00          216.0            1.14056   \n",
       "2019-11-01 07:00:00+00:00          260.0            1.85722   \n",
       "\n",
       "                                           datetime  year  month  day  hour  \\\n",
       "Date et heure de comptage                                                     \n",
       "2019-11-01 03:00:00+00:00 2019-11-01 03:00:00+00:00  2019     11    1     3   \n",
       "2019-11-01 04:00:00+00:00 2019-11-01 04:00:00+00:00  2019     11    1     4   \n",
       "2019-11-01 05:00:00+00:00 2019-11-01 05:00:00+00:00  2019     11    1     5   \n",
       "2019-11-01 06:00:00+00:00 2019-11-01 06:00:00+00:00  2019     11    1     6   \n",
       "2019-11-01 07:00:00+00:00 2019-11-01 07:00:00+00:00  2019     11    1     7   \n",
       "\n",
       "                           dayofweek  \n",
       "Date et heure de comptage             \n",
       "2019-11-01 03:00:00+00:00          4  \n",
       "2019-11-01 04:00:00+00:00          4  \n",
       "2019-11-01 05:00:00+00:00          4  \n",
       "2019-11-01 06:00:00+00:00          4  \n",
       "2019-11-01 07:00:00+00:00          4  "
      ],
      "text/html": "<div>\n<style scoped>\n    .dataframe tbody tr th:only-of-type {\n        vertical-align: middle;\n    }\n\n    .dataframe tbody tr th {\n        vertical-align: top;\n    }\n\n    .dataframe thead th {\n        text-align: right;\n    }\n</style>\n<table border=\"1\" class=\"dataframe\">\n  <thead>\n    <tr style=\"text-align: right;\">\n      <th></th>\n      <th>Débit horaire</th>\n      <th>Taux d'occupation</th>\n      <th>datetime</th>\n      <th>year</th>\n      <th>month</th>\n      <th>day</th>\n      <th>hour</th>\n      <th>dayofweek</th>\n    </tr>\n    <tr>\n      <th>Date et heure de comptage</th>\n      <th></th>\n      <th></th>\n      <th></th>\n      <th></th>\n      <th></th>\n      <th></th>\n      <th></th>\n      <th></th>\n    </tr>\n  </thead>\n  <tbody>\n    <tr>\n      <th>2019-11-01 03:00:00+00:00</th>\n      <td>323.0</td>\n      <td>1.67722</td>\n      <td>2019-11-01 03:00:00+00:00</td>\n      <td>2019</td>\n      <td>11</td>\n      <td>1</td>\n      <td>3</td>\n      <td>4</td>\n    </tr>\n    <tr>\n      <th>2019-11-01 04:00:00+00:00</th>\n      <td>272.0</td>\n      <td>1.41056</td>\n      <td>2019-11-01 04:00:00+00:00</td>\n      <td>2019</td>\n      <td>11</td>\n      <td>1</td>\n      <td>4</td>\n      <td>4</td>\n    </tr>\n    <tr>\n      <th>2019-11-01 05:00:00+00:00</th>\n      <td>240.0</td>\n      <td>1.35667</td>\n      <td>2019-11-01 05:00:00+00:00</td>\n      <td>2019</td>\n      <td>11</td>\n      <td>1</td>\n      <td>5</td>\n      <td>4</td>\n    </tr>\n    <tr>\n      <th>2019-11-01 06:00:00+00:00</th>\n      <td>216.0</td>\n      <td>1.14056</td>\n      <td>2019-11-01 06:00:00+00:00</td>\n      <td>2019</td>\n      <td>11</td>\n      <td>1</td>\n      <td>6</td>\n      <td>4</td>\n    </tr>\n    <tr>\n      <th>2019-11-01 07:00:00+00:00</th>\n      <td>260.0</td>\n      <td>1.85722</td>\n      <td>2019-11-01 07:00:00+00:00</td>\n      <td>2019</td>\n      <td>11</td>\n      <td>1</td>\n      <td>7</td>\n      <td>4</td>\n    </tr>\n  </tbody>\n</table>\n</div>"
     },
     "metadata": {},
     "execution_count": 7
    }
   ],
   "source": [
    "data_convention = preprocess(raw_convention)\n",
    "data_champs = preprocess(raw_champs)\n",
    "data_peres = preprocess(raw_peres)\n",
    "data_convention.head()"
   ]
  },
  {
   "cell_type": "code",
   "execution_count": null,
   "metadata": {},
   "outputs": [],
   "source": []
  }
 ]
}