{
 "metadata": {
  "language_info": {
   "codemirror_mode": {
    "name": "ipython",
    "version": 3
   },
   "file_extension": ".py",
   "mimetype": "text/x-python",
   "name": "python",
   "nbconvert_exporter": "python",
   "pygments_lexer": "ipython3",
   "version": "3.7.8-final"
  },
  "orig_nbformat": 2,
  "kernelspec": {
   "name": "python3",
   "display_name": "Python 3"
  }
 },
 "nbformat": 4,
 "nbformat_minor": 2,
 "cells": [
  {
   "source": [
    "# 1.a Observation des données\n",
    "Dans un premier temps, nous allons observer les données présentes pour les différentes rues à l'aide de l'outil `pandas-profiling`.\n",
    "Cela permet de dégager des premières étapes de preprocessing, notamment pour le format de la date."
   ],
   "cell_type": "markdown",
   "metadata": {}
  },
  {
   "cell_type": "code",
   "execution_count": 1,
   "metadata": {},
   "outputs": [],
   "source": [
    "from pandas_profiling import ProfileReport\n",
    "import pandas as pd\n",
    "import matplotlib.pyplot as plt\n",
    "%matplotlib inline"
   ]
  },
  {
   "cell_type": "code",
   "execution_count": 2,
   "metadata": {},
   "outputs": [],
   "source": [
    "data_convention = pd.read_csv('../data/comptages-routiers-permanents-convention.csv', sep=\";\")\n",
    "data_champs = pd.read_csv('../data/comptages-routiers-permanents-champs.csv', sep=\";\")\n",
    "data_peres = pd.read_csv('../data/comptages-routiers-permanents-peres.csv', sep=\";\")"
   ]
  },
  {
   "cell_type": "code",
   "execution_count": 3,
   "metadata": {},
   "outputs": [],
   "source": [
    "def preprocess(df: pd.DataFrame):\n",
    "    \"\"\"\n",
    "    Enlève les colonnes non nécessaires et formatte les dates en type datetime\n",
    "    pour ensuite en extraire année, jour, mois, heure et jour de la semaine\n",
    "    Réordonne les données temporellement\n",
    "    \"\"\"\n",
    "    temp = df[[\"Débit horaire\", \"Taux d'occupation\", \"Etat arc\",]].copy()\n",
    "    temp[\"Date et heure de comptage\"] = pd.to_datetime(df[\"Date et heure de comptage\"], utc=True)\n",
    "    temp = temp.sort_values(\"Date et heure de comptage\")\n",
    "    temp = temp.set_index(\"Date et heure de comptage\")\n",
    "    temp[\"datetime\"] = temp.index\n",
    "    temp[\"year\"] = temp.index.year\n",
    "    temp[\"month\"] = temp.index.month\n",
    "    temp[\"day\"] = temp.index.day\n",
    "    temp[\"hour\"] = temp.index.hour\n",
    "    # Récupère les jours de la semaine : 0 -> lundi, 6 -> dimanche\n",
    "    temp[\"dayofweek\"] = temp.index.dayofweek\n",
    "    return temp"
   ]
  },
  {
   "source": [
    "Avant les premières étapes de preprocessing, nos données contiennent beaucoup d'informations, pas toujours très lisible et souvent redondantes."
   ],
   "cell_type": "markdown",
   "metadata": {}
  },
  {
   "cell_type": "code",
   "execution_count": 4,
   "metadata": {},
   "outputs": [
    {
     "output_type": "execute_result",
     "data": {
      "text/plain": [
       "   Identifiant arc     Libelle  Date et heure de comptage  Débit horaire  \\\n",
       "0             5671  Convention  2020-08-12T15:00:00+02:00          626.0   \n",
       "1             5671  Convention  2020-08-12T14:00:00+02:00          583.0   \n",
       "2             5671  Convention  2020-08-12T11:00:00+02:00          558.0   \n",
       "3             5671  Convention  2020-11-01T12:00:00+01:00          333.0   \n",
       "4             5671  Convention  2020-10-01T06:00:00+02:00          146.0   \n",
       "\n",
       "   Taux d'occupation Etat trafic  Identifiant noeud amont  \\\n",
       "0            3.66000      Fluide                     2937   \n",
       "1            3.15056      Fluide                     2937   \n",
       "2            3.84389      Fluide                     2937   \n",
       "3            2.02889      Fluide                     2937   \n",
       "4            0.87611      Fluide                     2937   \n",
       "\n",
       "   Libelle noeud amont  Identifiant noeud aval Libelle noeud aval  Etat arc  \\\n",
       "0  Lecourbe-Convention                    2973  Convention-Blomet  Invalide   \n",
       "1  Lecourbe-Convention                    2973  Convention-Blomet  Invalide   \n",
       "2  Lecourbe-Convention                    2973  Convention-Blomet  Invalide   \n",
       "3  Lecourbe-Convention                    2973  Convention-Blomet  Invalide   \n",
       "4  Lecourbe-Convention                    2973  Convention-Blomet  Invalide   \n",
       "\n",
       "  Date debut dispo data Date fin dispo data                 geo_point_2d  \\\n",
       "0            2005-01-01          2019-06-01  48.8386343727,2.29320560272   \n",
       "1            2005-01-01          2019-06-01  48.8386343727,2.29320560272   \n",
       "2            2005-01-01          2019-06-01  48.8386343727,2.29320560272   \n",
       "3            2005-01-01          2019-06-01  48.8386343727,2.29320560272   \n",
       "4            2005-01-01          2019-06-01  48.8386343727,2.29320560272   \n",
       "\n",
       "                                           geo_shape  \n",
       "0  {\"type\": \"LineString\", \"coordinates\": [[2.2918...  \n",
       "1  {\"type\": \"LineString\", \"coordinates\": [[2.2918...  \n",
       "2  {\"type\": \"LineString\", \"coordinates\": [[2.2918...  \n",
       "3  {\"type\": \"LineString\", \"coordinates\": [[2.2918...  \n",
       "4  {\"type\": \"LineString\", \"coordinates\": [[2.2918...  "
      ],
      "text/html": "<div>\n<style scoped>\n    .dataframe tbody tr th:only-of-type {\n        vertical-align: middle;\n    }\n\n    .dataframe tbody tr th {\n        vertical-align: top;\n    }\n\n    .dataframe thead th {\n        text-align: right;\n    }\n</style>\n<table border=\"1\" class=\"dataframe\">\n  <thead>\n    <tr style=\"text-align: right;\">\n      <th></th>\n      <th>Identifiant arc</th>\n      <th>Libelle</th>\n      <th>Date et heure de comptage</th>\n      <th>Débit horaire</th>\n      <th>Taux d'occupation</th>\n      <th>Etat trafic</th>\n      <th>Identifiant noeud amont</th>\n      <th>Libelle noeud amont</th>\n      <th>Identifiant noeud aval</th>\n      <th>Libelle noeud aval</th>\n      <th>Etat arc</th>\n      <th>Date debut dispo data</th>\n      <th>Date fin dispo data</th>\n      <th>geo_point_2d</th>\n      <th>geo_shape</th>\n    </tr>\n  </thead>\n  <tbody>\n    <tr>\n      <th>0</th>\n      <td>5671</td>\n      <td>Convention</td>\n      <td>2020-08-12T15:00:00+02:00</td>\n      <td>626.0</td>\n      <td>3.66000</td>\n      <td>Fluide</td>\n      <td>2937</td>\n      <td>Lecourbe-Convention</td>\n      <td>2973</td>\n      <td>Convention-Blomet</td>\n      <td>Invalide</td>\n      <td>2005-01-01</td>\n      <td>2019-06-01</td>\n      <td>48.8386343727,2.29320560272</td>\n      <td>{\"type\": \"LineString\", \"coordinates\": [[2.2918...</td>\n    </tr>\n    <tr>\n      <th>1</th>\n      <td>5671</td>\n      <td>Convention</td>\n      <td>2020-08-12T14:00:00+02:00</td>\n      <td>583.0</td>\n      <td>3.15056</td>\n      <td>Fluide</td>\n      <td>2937</td>\n      <td>Lecourbe-Convention</td>\n      <td>2973</td>\n      <td>Convention-Blomet</td>\n      <td>Invalide</td>\n      <td>2005-01-01</td>\n      <td>2019-06-01</td>\n      <td>48.8386343727,2.29320560272</td>\n      <td>{\"type\": \"LineString\", \"coordinates\": [[2.2918...</td>\n    </tr>\n    <tr>\n      <th>2</th>\n      <td>5671</td>\n      <td>Convention</td>\n      <td>2020-08-12T11:00:00+02:00</td>\n      <td>558.0</td>\n      <td>3.84389</td>\n      <td>Fluide</td>\n      <td>2937</td>\n      <td>Lecourbe-Convention</td>\n      <td>2973</td>\n      <td>Convention-Blomet</td>\n      <td>Invalide</td>\n      <td>2005-01-01</td>\n      <td>2019-06-01</td>\n      <td>48.8386343727,2.29320560272</td>\n      <td>{\"type\": \"LineString\", \"coordinates\": [[2.2918...</td>\n    </tr>\n    <tr>\n      <th>3</th>\n      <td>5671</td>\n      <td>Convention</td>\n      <td>2020-11-01T12:00:00+01:00</td>\n      <td>333.0</td>\n      <td>2.02889</td>\n      <td>Fluide</td>\n      <td>2937</td>\n      <td>Lecourbe-Convention</td>\n      <td>2973</td>\n      <td>Convention-Blomet</td>\n      <td>Invalide</td>\n      <td>2005-01-01</td>\n      <td>2019-06-01</td>\n      <td>48.8386343727,2.29320560272</td>\n      <td>{\"type\": \"LineString\", \"coordinates\": [[2.2918...</td>\n    </tr>\n    <tr>\n      <th>4</th>\n      <td>5671</td>\n      <td>Convention</td>\n      <td>2020-10-01T06:00:00+02:00</td>\n      <td>146.0</td>\n      <td>0.87611</td>\n      <td>Fluide</td>\n      <td>2937</td>\n      <td>Lecourbe-Convention</td>\n      <td>2973</td>\n      <td>Convention-Blomet</td>\n      <td>Invalide</td>\n      <td>2005-01-01</td>\n      <td>2019-06-01</td>\n      <td>48.8386343727,2.29320560272</td>\n      <td>{\"type\": \"LineString\", \"coordinates\": [[2.2918...</td>\n    </tr>\n  </tbody>\n</table>\n</div>"
     },
     "metadata": {},
     "execution_count": 4
    }
   ],
   "source": [
    "data_convention.head()"
   ]
  },
  {
   "cell_type": "code",
   "execution_count": 5,
   "metadata": {},
   "outputs": [],
   "source": [
    "data_convention = preprocess(data_convention)\n",
    "data_champs = preprocess(data_champs)\n",
    "data_peres = preprocess(data_peres)"
   ]
  },
  {
   "source": [
    "Après les étapes de preprocessing simple, on a réussi à enlever les colonnes redondantes et mieux décrire la date de chaque ligne."
   ],
   "cell_type": "markdown",
   "metadata": {}
  },
  {
   "cell_type": "code",
   "execution_count": 6,
   "metadata": {},
   "outputs": [
    {
     "output_type": "execute_result",
     "data": {
      "text/plain": [
       "                           Débit horaire  Taux d'occupation  Etat arc  \\\n",
       "Date et heure de comptage                                               \n",
       "2019-11-01 03:00:00+00:00          323.0            1.67722  Invalide   \n",
       "2019-11-01 04:00:00+00:00          272.0            1.41056  Invalide   \n",
       "2019-11-01 05:00:00+00:00          240.0            1.35667  Invalide   \n",
       "2019-11-01 06:00:00+00:00          216.0            1.14056  Invalide   \n",
       "2019-11-01 07:00:00+00:00          260.0            1.85722  Invalide   \n",
       "\n",
       "                                           datetime  year  month  day  hour  \\\n",
       "Date et heure de comptage                                                     \n",
       "2019-11-01 03:00:00+00:00 2019-11-01 03:00:00+00:00  2019     11    1     3   \n",
       "2019-11-01 04:00:00+00:00 2019-11-01 04:00:00+00:00  2019     11    1     4   \n",
       "2019-11-01 05:00:00+00:00 2019-11-01 05:00:00+00:00  2019     11    1     5   \n",
       "2019-11-01 06:00:00+00:00 2019-11-01 06:00:00+00:00  2019     11    1     6   \n",
       "2019-11-01 07:00:00+00:00 2019-11-01 07:00:00+00:00  2019     11    1     7   \n",
       "\n",
       "                           dayofweek  \n",
       "Date et heure de comptage             \n",
       "2019-11-01 03:00:00+00:00          4  \n",
       "2019-11-01 04:00:00+00:00          4  \n",
       "2019-11-01 05:00:00+00:00          4  \n",
       "2019-11-01 06:00:00+00:00          4  \n",
       "2019-11-01 07:00:00+00:00          4  "
      ],
      "text/html": "<div>\n<style scoped>\n    .dataframe tbody tr th:only-of-type {\n        vertical-align: middle;\n    }\n\n    .dataframe tbody tr th {\n        vertical-align: top;\n    }\n\n    .dataframe thead th {\n        text-align: right;\n    }\n</style>\n<table border=\"1\" class=\"dataframe\">\n  <thead>\n    <tr style=\"text-align: right;\">\n      <th></th>\n      <th>Débit horaire</th>\n      <th>Taux d'occupation</th>\n      <th>Etat arc</th>\n      <th>datetime</th>\n      <th>year</th>\n      <th>month</th>\n      <th>day</th>\n      <th>hour</th>\n      <th>dayofweek</th>\n    </tr>\n    <tr>\n      <th>Date et heure de comptage</th>\n      <th></th>\n      <th></th>\n      <th></th>\n      <th></th>\n      <th></th>\n      <th></th>\n      <th></th>\n      <th></th>\n      <th></th>\n    </tr>\n  </thead>\n  <tbody>\n    <tr>\n      <th>2019-11-01 03:00:00+00:00</th>\n      <td>323.0</td>\n      <td>1.67722</td>\n      <td>Invalide</td>\n      <td>2019-11-01 03:00:00+00:00</td>\n      <td>2019</td>\n      <td>11</td>\n      <td>1</td>\n      <td>3</td>\n      <td>4</td>\n    </tr>\n    <tr>\n      <th>2019-11-01 04:00:00+00:00</th>\n      <td>272.0</td>\n      <td>1.41056</td>\n      <td>Invalide</td>\n      <td>2019-11-01 04:00:00+00:00</td>\n      <td>2019</td>\n      <td>11</td>\n      <td>1</td>\n      <td>4</td>\n      <td>4</td>\n    </tr>\n    <tr>\n      <th>2019-11-01 05:00:00+00:00</th>\n      <td>240.0</td>\n      <td>1.35667</td>\n      <td>Invalide</td>\n      <td>2019-11-01 05:00:00+00:00</td>\n      <td>2019</td>\n      <td>11</td>\n      <td>1</td>\n      <td>5</td>\n      <td>4</td>\n    </tr>\n    <tr>\n      <th>2019-11-01 06:00:00+00:00</th>\n      <td>216.0</td>\n      <td>1.14056</td>\n      <td>Invalide</td>\n      <td>2019-11-01 06:00:00+00:00</td>\n      <td>2019</td>\n      <td>11</td>\n      <td>1</td>\n      <td>6</td>\n      <td>4</td>\n    </tr>\n    <tr>\n      <th>2019-11-01 07:00:00+00:00</th>\n      <td>260.0</td>\n      <td>1.85722</td>\n      <td>Invalide</td>\n      <td>2019-11-01 07:00:00+00:00</td>\n      <td>2019</td>\n      <td>11</td>\n      <td>1</td>\n      <td>7</td>\n      <td>4</td>\n    </tr>\n  </tbody>\n</table>\n</div>"
     },
     "metadata": {},
     "execution_count": 6
    }
   ],
   "source": [
    "data_convention.head()"
   ]
  },
  {
   "cell_type": "code",
   "execution_count": 7,
   "metadata": {},
   "outputs": [
    {
     "output_type": "execute_result",
     "data": {
      "text/plain": [
       "6    1367\n",
       "4    1365\n",
       "5    1344\n",
       "1    1344\n",
       "0    1344\n",
       "2    1343\n",
       "3    1324\n",
       "Name: dayofweek, dtype: int64"
      ]
     },
     "metadata": {},
     "execution_count": 7
    }
   ],
   "source": [
    "data_convention[\"dayofweek\"].value_counts()"
   ]
  },
  {
   "cell_type": "code",
   "execution_count": 46,
   "metadata": {},
   "outputs": [],
   "source": [
    "prof_convention = ProfileReport(data_convention)\n",
    "prof_champs = ProfileReport(data_champs)\n",
    "prof_peres = ProfileReport(data_peres)"
   ]
  },
  {
   "cell_type": "code",
   "execution_count": 47,
   "metadata": {},
   "outputs": [
    {
     "output_type": "stream",
     "name": "stderr",
     "text": [
      "Summarize dataset: 100%|██████████| 23/23 [00:53<00:00,  2.32s/it, Completed]\n",
      "Generate report structure: 100%|██████████| 1/1 [00:36<00:00, 36.33s/it]\n",
      "Render HTML: 100%|██████████| 1/1 [00:04<00:00,  4.08s/it]\n",
      "Export report to file: 100%|██████████| 1/1 [00:00<00:00, 55.37it/s]\n",
      "Summarize dataset: 100%|██████████| 23/23 [00:24<00:00,  1.06s/it, Completed]\n",
      "Generate report structure: 100%|██████████| 1/1 [00:19<00:00, 19.45s/it]\n",
      "Render HTML: 100%|██████████| 1/1 [00:06<00:00,  6.22s/it]\n",
      "Export report to file: 100%|██████████| 1/1 [00:00<00:00, 14.56it/s]\n",
      "Summarize dataset: 100%|██████████| 23/23 [00:28<00:00,  1.22s/it, Completed]\n",
      "Generate report structure: 100%|██████████| 1/1 [00:17<00:00, 17.93s/it]\n",
      "Render HTML: 100%|██████████| 1/1 [00:06<00:00,  6.09s/it]\n",
      "Export report to file: 100%|██████████| 1/1 [00:00<00:00, 26.80it/s]\n"
     ]
    }
   ],
   "source": [
    "prof_convention.to_file(output_file=\"convention1.html\")\n",
    "prof_champs.to_file(output_file=\"champs1.html\")\n",
    "prof_peres.to_file(output_file=\"peres1.html\")"
   ]
  },
  {
   "cell_type": "code",
   "execution_count": 63,
   "metadata": {},
   "outputs": [],
   "source": [
    "barre_champs = (data_champs[\"Etat arc\"] == \"Barré\").astype(int).groupby([data_champs[\"month\"], data_champs[\"day\"]]).sum()"
   ]
  },
  {
   "cell_type": "code",
   "execution_count": 64,
   "metadata": {},
   "outputs": [
    {
     "output_type": "execute_result",
     "data": {
      "text/plain": [
       "month  day\n",
       "5      4       0\n",
       "       3       0\n",
       "4      27      0\n",
       "5      8       4\n",
       "8      2       4\n",
       "3      1       6\n",
       "11     24      6\n",
       "12     31      6\n",
       "9      6       7\n",
       "7      5       7\n",
       "       14      7\n",
       "11     1       8\n",
       "1      24      8\n",
       "11     3       8\n",
       "6      7       9\n",
       "1      5       9\n",
       "2      2       9\n",
       "11     11     10\n",
       "       27     11\n",
       "9      20     12\n",
       "Name: Etat arc, dtype: int32"
      ]
     },
     "metadata": {},
     "execution_count": 64
    }
   ],
   "source": [
    "barre_champs.sort_values().tail(20)"
   ]
  },
  {
   "cell_type": "code",
   "execution_count": 65,
   "metadata": {},
   "outputs": [],
   "source": [
    "barre_convention = (data_convention[\"Etat arc\"] == \"Barré\").astype(int).groupby([data_convention[\"month\"], data_convention[\"day\"]]).sum()"
   ]
  },
  {
   "cell_type": "code",
   "execution_count": 67,
   "metadata": {},
   "outputs": [
    {
     "output_type": "execute_result",
     "data": {
      "text/plain": [
       "month  day\n",
       "1      1      0\n",
       "9      6      0\n",
       "       5      0\n",
       "       4      0\n",
       "       3      0\n",
       "             ..\n",
       "4      28     0\n",
       "       27     0\n",
       "5      6      0\n",
       "12     31     0\n",
       "7      11     2\n",
       "Name: Etat arc, Length: 365, dtype: int32"
      ]
     },
     "metadata": {},
     "execution_count": 67
    }
   ],
   "source": [
    "barre_convention.sort_values()"
   ]
  },
  {
   "cell_type": "code",
   "execution_count": 68,
   "metadata": {},
   "outputs": [],
   "source": [
    "barre_peres = (data_peres[\"Etat arc\"] == \"Barré\").astype(int).groupby([data_peres[\"month\"], data_peres[\"day\"]]).sum()"
   ]
  },
  {
   "cell_type": "code",
   "execution_count": 69,
   "metadata": {},
   "outputs": [
    {
     "output_type": "execute_result",
     "data": {
      "text/plain": [
       "month  day\n",
       "1      1      0\n",
       "9      5      0\n",
       "       4      0\n",
       "       3      0\n",
       "       2      0\n",
       "             ..\n",
       "4      28     0\n",
       "       27     0\n",
       "5      5      0\n",
       "12     31     0\n",
       "1      19     4\n",
       "Name: Etat arc, Length: 365, dtype: int32"
      ]
     },
     "metadata": {},
     "execution_count": 69
    }
   ],
   "source": [
    "barre_peres.sort_values()"
   ]
  },
  {
   "cell_type": "code",
   "execution_count": null,
   "metadata": {},
   "outputs": [],
   "source": []
  }
 ]
}