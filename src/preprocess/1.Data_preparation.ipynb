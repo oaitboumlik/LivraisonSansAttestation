{
 "cells": [
  {
   "cell_type": "code",
   "execution_count": 1,
   "metadata": {},
   "outputs": [],
   "source": [
    "import pandas as pd\n",
    "import numpy as np\n",
    "import matplotlib.pyplot as plt\n",
    "import os"
   ]
  },
  {
   "cell_type": "code",
   "execution_count": 2,
   "metadata": {},
   "outputs": [],
   "source": [
    "from prepare_data import preprocess, get_covid_data, add_covid_data, get_holidays_data, add_jours_feries, add_school_holidays"
   ]
  },
  {
   "cell_type": "code",
   "execution_count": 3,
   "metadata": {},
   "outputs": [],
   "source": [
    "args = {\n",
    "    \"data_covid\": '../../data/covid_data/OxCGRT_latest.csv',\n",
    "    'data_holidays': '../../data/data_holidays',\n",
    "    'data_polution': '../../data/polution2019',\n",
    "    'data_meteo': '../../data/meteo',\n",
    "    'raw_data': '../../data/raw_data',\n",
    "    'output': '../../data/final_data'\n",
    "}\n"
   ]
  },
  {
   "cell_type": "code",
   "execution_count": 4,
   "metadata": {},
   "outputs": [],
   "source": [
    "raw_convention = pd.read_csv(\n",
    "    os.path.join(args['raw_data'], 'comptages-routiers-permanents-convention.csv'),\n",
    "    sep=\";\")\n",
    "raw_champs = pd.read_csv(\n",
    "    os.path.join(args['raw_data'], 'comptages-routiers-permanents-champs.csv'),\n",
    "    sep=\";\")\n",
    "raw_peres = pd.read_csv(\n",
    "    os.path.join(args['raw_data'], 'comptages-routiers-permanents-peres.csv'),\n",
    "    sep=\";\")"
   ]
  },
  {
   "cell_type": "code",
   "execution_count": 5,
   "metadata": {},
   "outputs": [
    {
     "output_type": "execute_result",
     "data": {
      "text/plain": [
       "                           Débit horaire  Taux d'occupation  \\\n",
       "Date et heure de comptage                                     \n",
       "2020-12-10 19:00:00+00:00          847.0            4.82889   \n",
       "2020-12-10 20:00:00+00:00          682.0            3.97445   \n",
       "2020-12-10 21:00:00+00:00          450.0            2.30889   \n",
       "2020-12-10 22:00:00+00:00          278.0            1.68722   \n",
       "2020-12-10 23:00:00+00:00          245.0            1.56945   \n",
       "\n",
       "                                           datetime  year  month  day  hour  \\\n",
       "Date et heure de comptage                                                     \n",
       "2020-12-10 19:00:00+00:00 2020-12-10 19:00:00+00:00  2020     12   10    19   \n",
       "2020-12-10 20:00:00+00:00 2020-12-10 20:00:00+00:00  2020     12   10    20   \n",
       "2020-12-10 21:00:00+00:00 2020-12-10 21:00:00+00:00  2020     12   10    21   \n",
       "2020-12-10 22:00:00+00:00 2020-12-10 22:00:00+00:00  2020     12   10    22   \n",
       "2020-12-10 23:00:00+00:00 2020-12-10 23:00:00+00:00  2020     12   10    23   \n",
       "\n",
       "                           dayofweek  \n",
       "Date et heure de comptage             \n",
       "2020-12-10 19:00:00+00:00          3  \n",
       "2020-12-10 20:00:00+00:00          3  \n",
       "2020-12-10 21:00:00+00:00          3  \n",
       "2020-12-10 22:00:00+00:00          3  \n",
       "2020-12-10 23:00:00+00:00          3  "
      ],
      "text/html": "<div>\n<style scoped>\n    .dataframe tbody tr th:only-of-type {\n        vertical-align: middle;\n    }\n\n    .dataframe tbody tr th {\n        vertical-align: top;\n    }\n\n    .dataframe thead th {\n        text-align: right;\n    }\n</style>\n<table border=\"1\" class=\"dataframe\">\n  <thead>\n    <tr style=\"text-align: right;\">\n      <th></th>\n      <th>Débit horaire</th>\n      <th>Taux d'occupation</th>\n      <th>datetime</th>\n      <th>year</th>\n      <th>month</th>\n      <th>day</th>\n      <th>hour</th>\n      <th>dayofweek</th>\n    </tr>\n    <tr>\n      <th>Date et heure de comptage</th>\n      <th></th>\n      <th></th>\n      <th></th>\n      <th></th>\n      <th></th>\n      <th></th>\n      <th></th>\n      <th></th>\n    </tr>\n  </thead>\n  <tbody>\n    <tr>\n      <th>2020-12-10 19:00:00+00:00</th>\n      <td>847.0</td>\n      <td>4.82889</td>\n      <td>2020-12-10 19:00:00+00:00</td>\n      <td>2020</td>\n      <td>12</td>\n      <td>10</td>\n      <td>19</td>\n      <td>3</td>\n    </tr>\n    <tr>\n      <th>2020-12-10 20:00:00+00:00</th>\n      <td>682.0</td>\n      <td>3.97445</td>\n      <td>2020-12-10 20:00:00+00:00</td>\n      <td>2020</td>\n      <td>12</td>\n      <td>10</td>\n      <td>20</td>\n      <td>3</td>\n    </tr>\n    <tr>\n      <th>2020-12-10 21:00:00+00:00</th>\n      <td>450.0</td>\n      <td>2.30889</td>\n      <td>2020-12-10 21:00:00+00:00</td>\n      <td>2020</td>\n      <td>12</td>\n      <td>10</td>\n      <td>21</td>\n      <td>3</td>\n    </tr>\n    <tr>\n      <th>2020-12-10 22:00:00+00:00</th>\n      <td>278.0</td>\n      <td>1.68722</td>\n      <td>2020-12-10 22:00:00+00:00</td>\n      <td>2020</td>\n      <td>12</td>\n      <td>10</td>\n      <td>22</td>\n      <td>3</td>\n    </tr>\n    <tr>\n      <th>2020-12-10 23:00:00+00:00</th>\n      <td>245.0</td>\n      <td>1.56945</td>\n      <td>2020-12-10 23:00:00+00:00</td>\n      <td>2020</td>\n      <td>12</td>\n      <td>10</td>\n      <td>23</td>\n      <td>3</td>\n    </tr>\n  </tbody>\n</table>\n</div>"
     },
     "metadata": {},
     "execution_count": 5
    }
   ],
   "source": [
    "data_convention = preprocess(raw_convention)\n",
    "data_champs = preprocess(raw_champs)\n",
    "data_peres = preprocess(raw_peres)\n",
    "data_convention.tail()"
   ]
  },
  {
   "cell_type": "markdown",
   "metadata": {},
   "source": [
    "## Add Covid data"
   ]
  },
  {
   "cell_type": "code",
   "execution_count": 6,
   "metadata": {},
   "outputs": [
    {
     "output_type": "execute_result",
     "data": {
      "text/plain": [
       "        Date  C1_School closing  C2_Workplace closing  \\\n",
       "0 2020-01-01                0.0                   0.0   \n",
       "1 2020-01-02                0.0                   0.0   \n",
       "2 2020-01-03                0.0                   0.0   \n",
       "3 2020-01-04                0.0                   0.0   \n",
       "4 2020-01-05                0.0                   0.0   \n",
       "\n",
       "   C3_Cancel public events  C4_Restrictions on gatherings  \\\n",
       "0                      0.0                            0.0   \n",
       "1                      0.0                            0.0   \n",
       "2                      0.0                            0.0   \n",
       "3                      0.0                            0.0   \n",
       "4                      0.0                            0.0   \n",
       "\n",
       "   C5_Close public transport  C6_Stay at home requirements  \\\n",
       "0                        0.0                           0.0   \n",
       "1                        0.0                           0.0   \n",
       "2                        0.0                           0.0   \n",
       "3                        0.0                           0.0   \n",
       "4                        0.0                           0.0   \n",
       "\n",
       "   C7_Restrictions on internal movement  StringencyLegacyIndexForDisplay  \\\n",
       "0                                   0.0                              0.0   \n",
       "1                                   0.0                              0.0   \n",
       "2                                   0.0                              0.0   \n",
       "3                                   0.0                              0.0   \n",
       "4                                   0.0                              0.0   \n",
       "\n",
       "   ContainmentHealthIndexForDisplay  \n",
       "0                               0.0  \n",
       "1                               0.0  \n",
       "2                               0.0  \n",
       "3                               0.0  \n",
       "4                               0.0  "
      ],
      "text/html": "<div>\n<style scoped>\n    .dataframe tbody tr th:only-of-type {\n        vertical-align: middle;\n    }\n\n    .dataframe tbody tr th {\n        vertical-align: top;\n    }\n\n    .dataframe thead th {\n        text-align: right;\n    }\n</style>\n<table border=\"1\" class=\"dataframe\">\n  <thead>\n    <tr style=\"text-align: right;\">\n      <th></th>\n      <th>Date</th>\n      <th>C1_School closing</th>\n      <th>C2_Workplace closing</th>\n      <th>C3_Cancel public events</th>\n      <th>C4_Restrictions on gatherings</th>\n      <th>C5_Close public transport</th>\n      <th>C6_Stay at home requirements</th>\n      <th>C7_Restrictions on internal movement</th>\n      <th>StringencyLegacyIndexForDisplay</th>\n      <th>ContainmentHealthIndexForDisplay</th>\n    </tr>\n  </thead>\n  <tbody>\n    <tr>\n      <th>0</th>\n      <td>2020-01-01</td>\n      <td>0.0</td>\n      <td>0.0</td>\n      <td>0.0</td>\n      <td>0.0</td>\n      <td>0.0</td>\n      <td>0.0</td>\n      <td>0.0</td>\n      <td>0.0</td>\n      <td>0.0</td>\n    </tr>\n    <tr>\n      <th>1</th>\n      <td>2020-01-02</td>\n      <td>0.0</td>\n      <td>0.0</td>\n      <td>0.0</td>\n      <td>0.0</td>\n      <td>0.0</td>\n      <td>0.0</td>\n      <td>0.0</td>\n      <td>0.0</td>\n      <td>0.0</td>\n    </tr>\n    <tr>\n      <th>2</th>\n      <td>2020-01-03</td>\n      <td>0.0</td>\n      <td>0.0</td>\n      <td>0.0</td>\n      <td>0.0</td>\n      <td>0.0</td>\n      <td>0.0</td>\n      <td>0.0</td>\n      <td>0.0</td>\n      <td>0.0</td>\n    </tr>\n    <tr>\n      <th>3</th>\n      <td>2020-01-04</td>\n      <td>0.0</td>\n      <td>0.0</td>\n      <td>0.0</td>\n      <td>0.0</td>\n      <td>0.0</td>\n      <td>0.0</td>\n      <td>0.0</td>\n      <td>0.0</td>\n      <td>0.0</td>\n    </tr>\n    <tr>\n      <th>4</th>\n      <td>2020-01-05</td>\n      <td>0.0</td>\n      <td>0.0</td>\n      <td>0.0</td>\n      <td>0.0</td>\n      <td>0.0</td>\n      <td>0.0</td>\n      <td>0.0</td>\n      <td>0.0</td>\n      <td>0.0</td>\n    </tr>\n  </tbody>\n</table>\n</div>"
     },
     "metadata": {},
     "execution_count": 6
    }
   ],
   "source": [
    "data_france = get_covid_data(path=args['data_covid'])\n",
    "data_france.head()"
   ]
  },
  {
   "cell_type": "code",
   "execution_count": 7,
   "metadata": {},
   "outputs": [
    {
     "output_type": "execute_result",
     "data": {
      "text/plain": [
       "      Débit horaire  Taux d'occupation                  datetime  year  month  \\\n",
       "9736          847.0            4.82889 2020-12-10 19:00:00+00:00  2020     12   \n",
       "9737          682.0            3.97445 2020-12-10 20:00:00+00:00  2020     12   \n",
       "9738          450.0            2.30889 2020-12-10 21:00:00+00:00  2020     12   \n",
       "9739          278.0            1.68722 2020-12-10 22:00:00+00:00  2020     12   \n",
       "9740          245.0            1.56945 2020-12-10 23:00:00+00:00  2020     12   \n",
       "\n",
       "      day  hour  dayofweek       Date  C1_School closing  \\\n",
       "9736   10    19          3 2020-12-10                2.0   \n",
       "9737   10    20          3 2020-12-10                2.0   \n",
       "9738   10    21          3 2020-12-10                2.0   \n",
       "9739   10    22          3 2020-12-10                2.0   \n",
       "9740   10    23          3 2020-12-10                2.0   \n",
       "\n",
       "      C2_Workplace closing  C3_Cancel public events  \\\n",
       "9736                   2.0                      2.0   \n",
       "9737                   2.0                      2.0   \n",
       "9738                   2.0                      2.0   \n",
       "9739                   2.0                      2.0   \n",
       "9740                   2.0                      2.0   \n",
       "\n",
       "      C4_Restrictions on gatherings  C5_Close public transport  \\\n",
       "9736                            4.0                        0.0   \n",
       "9737                            4.0                        0.0   \n",
       "9738                            4.0                        0.0   \n",
       "9739                            4.0                        0.0   \n",
       "9740                            4.0                        0.0   \n",
       "\n",
       "      C6_Stay at home requirements  C7_Restrictions on internal movement  \\\n",
       "9736                           2.0                                   2.0   \n",
       "9737                           2.0                                   2.0   \n",
       "9738                           2.0                                   2.0   \n",
       "9739                           2.0                                   2.0   \n",
       "9740                           2.0                                   2.0   \n",
       "\n",
       "      StringencyLegacyIndexForDisplay  ContainmentHealthIndexForDisplay  \n",
       "9736                             75.0                             74.04  \n",
       "9737                             75.0                             74.04  \n",
       "9738                             75.0                             74.04  \n",
       "9739                             75.0                             74.04  \n",
       "9740                             75.0                             74.04  "
      ],
      "text/html": "<div>\n<style scoped>\n    .dataframe tbody tr th:only-of-type {\n        vertical-align: middle;\n    }\n\n    .dataframe tbody tr th {\n        vertical-align: top;\n    }\n\n    .dataframe thead th {\n        text-align: right;\n    }\n</style>\n<table border=\"1\" class=\"dataframe\">\n  <thead>\n    <tr style=\"text-align: right;\">\n      <th></th>\n      <th>Débit horaire</th>\n      <th>Taux d'occupation</th>\n      <th>datetime</th>\n      <th>year</th>\n      <th>month</th>\n      <th>day</th>\n      <th>hour</th>\n      <th>dayofweek</th>\n      <th>Date</th>\n      <th>C1_School closing</th>\n      <th>C2_Workplace closing</th>\n      <th>C3_Cancel public events</th>\n      <th>C4_Restrictions on gatherings</th>\n      <th>C5_Close public transport</th>\n      <th>C6_Stay at home requirements</th>\n      <th>C7_Restrictions on internal movement</th>\n      <th>StringencyLegacyIndexForDisplay</th>\n      <th>ContainmentHealthIndexForDisplay</th>\n    </tr>\n  </thead>\n  <tbody>\n    <tr>\n      <th>9736</th>\n      <td>847.0</td>\n      <td>4.82889</td>\n      <td>2020-12-10 19:00:00+00:00</td>\n      <td>2020</td>\n      <td>12</td>\n      <td>10</td>\n      <td>19</td>\n      <td>3</td>\n      <td>2020-12-10</td>\n      <td>2.0</td>\n      <td>2.0</td>\n      <td>2.0</td>\n      <td>4.0</td>\n      <td>0.0</td>\n      <td>2.0</td>\n      <td>2.0</td>\n      <td>75.0</td>\n      <td>74.04</td>\n    </tr>\n    <tr>\n      <th>9737</th>\n      <td>682.0</td>\n      <td>3.97445</td>\n      <td>2020-12-10 20:00:00+00:00</td>\n      <td>2020</td>\n      <td>12</td>\n      <td>10</td>\n      <td>20</td>\n      <td>3</td>\n      <td>2020-12-10</td>\n      <td>2.0</td>\n      <td>2.0</td>\n      <td>2.0</td>\n      <td>4.0</td>\n      <td>0.0</td>\n      <td>2.0</td>\n      <td>2.0</td>\n      <td>75.0</td>\n      <td>74.04</td>\n    </tr>\n    <tr>\n      <th>9738</th>\n      <td>450.0</td>\n      <td>2.30889</td>\n      <td>2020-12-10 21:00:00+00:00</td>\n      <td>2020</td>\n      <td>12</td>\n      <td>10</td>\n      <td>21</td>\n      <td>3</td>\n      <td>2020-12-10</td>\n      <td>2.0</td>\n      <td>2.0</td>\n      <td>2.0</td>\n      <td>4.0</td>\n      <td>0.0</td>\n      <td>2.0</td>\n      <td>2.0</td>\n      <td>75.0</td>\n      <td>74.04</td>\n    </tr>\n    <tr>\n      <th>9739</th>\n      <td>278.0</td>\n      <td>1.68722</td>\n      <td>2020-12-10 22:00:00+00:00</td>\n      <td>2020</td>\n      <td>12</td>\n      <td>10</td>\n      <td>22</td>\n      <td>3</td>\n      <td>2020-12-10</td>\n      <td>2.0</td>\n      <td>2.0</td>\n      <td>2.0</td>\n      <td>4.0</td>\n      <td>0.0</td>\n      <td>2.0</td>\n      <td>2.0</td>\n      <td>75.0</td>\n      <td>74.04</td>\n    </tr>\n    <tr>\n      <th>9740</th>\n      <td>245.0</td>\n      <td>1.56945</td>\n      <td>2020-12-10 23:00:00+00:00</td>\n      <td>2020</td>\n      <td>12</td>\n      <td>10</td>\n      <td>23</td>\n      <td>3</td>\n      <td>2020-12-10</td>\n      <td>2.0</td>\n      <td>2.0</td>\n      <td>2.0</td>\n      <td>4.0</td>\n      <td>0.0</td>\n      <td>2.0</td>\n      <td>2.0</td>\n      <td>75.0</td>\n      <td>74.04</td>\n    </tr>\n  </tbody>\n</table>\n</div>"
     },
     "metadata": {},
     "execution_count": 7
    }
   ],
   "source": [
    "data_convention_covid = add_covid_data(data_convention, data_france)\n",
    "data_champs_covid = add_covid_data(data_champs, data_france)\n",
    "data_peres_covid = add_covid_data(data_peres, data_france)\n",
    "\n",
    "data_convention_covid.tail()"
   ]
  },
  {
   "cell_type": "markdown",
   "metadata": {},
   "source": [
    "## Add Holiday data"
   ]
  },
  {
   "cell_type": "code",
   "execution_count": 8,
   "metadata": {},
   "outputs": [],
   "source": [
    "data_vacance_scolaire ,data_jours_feries = get_holidays_data(path=args[\"data_holidays\"])"
   ]
  },
  {
   "cell_type": "code",
   "execution_count": 9,
   "metadata": {},
   "outputs": [
    {
     "output_type": "execute_result",
     "data": {
      "text/plain": [
       "0         1er janvier\n",
       "1      Lundi de Pques\n",
       "2             1er mai\n",
       "3               8 mai\n",
       "4           Ascension\n",
       "            ...      \n",
       "281        14 juillet\n",
       "282        Assomption\n",
       "283         Toussaint\n",
       "284       11 novembre\n",
       "285       Jour de Nol\n",
       "Name: nom_jour_ferie, Length: 286, dtype: object"
      ]
     },
     "metadata": {},
     "execution_count": 9
    }
   ],
   "source": [
    "data_jours_feries[\"nom_jour_ferie\"]"
   ]
  },
  {
   "cell_type": "code",
   "execution_count": 10,
   "metadata": {},
   "outputs": [],
   "source": [
    "data_champs_covid_holidays = add_jours_feries(data_champs_covid, data_jours_feries)\n",
    "data_convention_covid_holidays = add_jours_feries(data_convention_covid, data_jours_feries)\n",
    "data_peres_covid_holidays = add_jours_feries(data_peres_covid, data_jours_feries)"
   ]
  },
  {
   "cell_type": "code",
   "execution_count": 11,
   "metadata": {},
   "outputs": [],
   "source": [
    "data_champs_covid_holidays = add_school_holidays(data_champs_covid_holidays)\n",
    "data_convention_covid_holidays = add_school_holidays(data_convention_covid_holidays)\n",
    "data_peres_covid_holidays = add_school_holidays(data_peres_covid_holidays)"
   ]
  },
  {
   "cell_type": "code",
   "execution_count": 12,
   "metadata": {},
   "outputs": [],
   "source": [
    "data_champs_covid_holidays.nom_jour_ferie.fillna('pas_ferie', inplace=True)\n",
    "data_convention_covid_holidays.nom_jour_ferie.fillna('pas_ferie', inplace=True)\n",
    "data_peres_covid_holidays.nom_jour_ferie.fillna('pas_ferie', inplace=True)\n",
    "\n",
    "data_champs_covid_holidays.nom_vacance_scolaire.fillna('pas_vacance', inplace=True)\n",
    "data_convention_covid_holidays.nom_vacance_scolaire.fillna('pas_vacance', inplace=True)\n",
    "data_peres_covid_holidays.nom_vacance_scolaire.fillna('pas_vacance', inplace=True)"
   ]
  },
  {
   "cell_type": "code",
   "execution_count": 13,
   "metadata": {},
   "outputs": [
    {
     "output_type": "execute_result",
     "data": {
      "text/plain": [
       "Index(['11 novembre', '14 juillet', '1er janvier', '1er mai', '8 mai',\n",
       "       'Ascension', 'Assomption', 'Jour de Nol', 'Lundi de Pentecte',\n",
       "       'Lundi de Pques', 'Toussaint', 'pas_ferie'],\n",
       "      dtype='object')"
      ]
     },
     "metadata": {},
     "execution_count": 13
    }
   ],
   "source": [
    "data_champs_covid_holidays[\"nom_jour_ferie\"] = data_champs_covid_holidays[\"nom_jour_ferie\"].astype(\"category\")\n",
    "ferie_classes = data_champs_covid_holidays[\"nom_jour_ferie\"].cat.categories\n",
    "data_champs_covid_holidays[\"nom_jour_ferie\"] = data_champs_covid_holidays[\"nom_jour_ferie\"].cat.codes\n",
    "data_convention_covid_holidays[\"nom_jour_ferie\"] = data_convention_covid_holidays[\"nom_jour_ferie\"].astype(\"category\").cat.codes\n",
    "data_peres_covid_holidays[\"nom_jour_ferie\"] = data_peres_covid_holidays[\"nom_jour_ferie\"].astype(\"category\").cat.codes\n",
    "ferie_classes"
   ]
  },
  {
   "cell_type": "code",
   "execution_count": 14,
   "metadata": {},
   "outputs": [
    {
     "output_type": "execute_result",
     "data": {
      "text/plain": [
       "Index(['ascension', 'ete', 'hiver', 'noel', 'pas_vacance', 'printemps',\n",
       "       'toussaint'],\n",
       "      dtype='object')"
      ]
     },
     "metadata": {},
     "execution_count": 14
    }
   ],
   "source": [
    "data_champs_covid_holidays[\"nom_vacance_scolaire\"] = data_champs_covid_holidays[\"nom_vacance_scolaire\"].astype(\"category\")\n",
    "vacance_classes = data_champs_covid_holidays[\"nom_vacance_scolaire\"].cat.categories\n",
    "data_champs_covid_holidays[\"nom_vacance_scolaire\"] = data_champs_covid_holidays[\"nom_vacance_scolaire\"].cat.codes\n",
    "data_convention_covid_holidays[\"nom_vacance_scolaire\"] = data_convention_covid_holidays[\"nom_vacance_scolaire\"].astype(\"category\").cat.codes\n",
    "data_peres_covid_holidays[\"nom_vacance_scolaire\"] = data_peres_covid_holidays[\"nom_vacance_scolaire\"].astype(\"category\").cat.codes\n",
    "vacance_classes"
   ]
  },
  {
   "cell_type": "code",
   "execution_count": 15,
   "metadata": {},
   "outputs": [
    {
     "output_type": "execute_result",
     "data": {
      "text/plain": [
       "   Débit horaire  Taux d'occupation                  datetime  year  month  \\\n",
       "0          746.0           10.98889 2019-11-01 03:00:00+00:00  2019     11   \n",
       "1          549.0            7.40722 2019-11-01 04:00:00+00:00  2019     11   \n",
       "2          503.0            7.66667 2019-11-01 05:00:00+00:00  2019     11   \n",
       "3          500.0            4.75500 2019-11-01 06:00:00+00:00  2019     11   \n",
       "4          525.0            5.37389 2019-11-01 07:00:00+00:00  2019     11   \n",
       "\n",
       "   day  hour  dayofweek       Date  C1_School closing  ...  \\\n",
       "0    1     3          4 2019-11-01                0.0  ...   \n",
       "1    1     4          4 2019-11-01                0.0  ...   \n",
       "2    1     5          4 2019-11-01                0.0  ...   \n",
       "3    1     6          4 2019-11-01                0.0  ...   \n",
       "4    1     7          4 2019-11-01                0.0  ...   \n",
       "\n",
       "   C4_Restrictions on gatherings  C5_Close public transport  \\\n",
       "0                            0.0                        0.0   \n",
       "1                            0.0                        0.0   \n",
       "2                            0.0                        0.0   \n",
       "3                            0.0                        0.0   \n",
       "4                            0.0                        0.0   \n",
       "\n",
       "   C6_Stay at home requirements  C7_Restrictions on internal movement  \\\n",
       "0                           0.0                                   0.0   \n",
       "1                           0.0                                   0.0   \n",
       "2                           0.0                                   0.0   \n",
       "3                           0.0                                   0.0   \n",
       "4                           0.0                                   0.0   \n",
       "\n",
       "   StringencyLegacyIndexForDisplay  ContainmentHealthIndexForDisplay  \\\n",
       "0                              0.0                               0.0   \n",
       "1                              0.0                               0.0   \n",
       "2                              0.0                               0.0   \n",
       "3                              0.0                               0.0   \n",
       "4                              0.0                               0.0   \n",
       "\n",
       "   nom_jour_ferie  jour_ferie  nom_vacance_scolaire  vacance_scolaire  \n",
       "0              10           1                     4                 0  \n",
       "1              10           1                     4                 0  \n",
       "2              10           1                     4                 0  \n",
       "3              10           1                     4                 0  \n",
       "4              10           1                     4                 0  \n",
       "\n",
       "[5 rows x 22 columns]"
      ],
      "text/html": "<div>\n<style scoped>\n    .dataframe tbody tr th:only-of-type {\n        vertical-align: middle;\n    }\n\n    .dataframe tbody tr th {\n        vertical-align: top;\n    }\n\n    .dataframe thead th {\n        text-align: right;\n    }\n</style>\n<table border=\"1\" class=\"dataframe\">\n  <thead>\n    <tr style=\"text-align: right;\">\n      <th></th>\n      <th>Débit horaire</th>\n      <th>Taux d'occupation</th>\n      <th>datetime</th>\n      <th>year</th>\n      <th>month</th>\n      <th>day</th>\n      <th>hour</th>\n      <th>dayofweek</th>\n      <th>Date</th>\n      <th>C1_School closing</th>\n      <th>...</th>\n      <th>C4_Restrictions on gatherings</th>\n      <th>C5_Close public transport</th>\n      <th>C6_Stay at home requirements</th>\n      <th>C7_Restrictions on internal movement</th>\n      <th>StringencyLegacyIndexForDisplay</th>\n      <th>ContainmentHealthIndexForDisplay</th>\n      <th>nom_jour_ferie</th>\n      <th>jour_ferie</th>\n      <th>nom_vacance_scolaire</th>\n      <th>vacance_scolaire</th>\n    </tr>\n  </thead>\n  <tbody>\n    <tr>\n      <th>0</th>\n      <td>746.0</td>\n      <td>10.98889</td>\n      <td>2019-11-01 03:00:00+00:00</td>\n      <td>2019</td>\n      <td>11</td>\n      <td>1</td>\n      <td>3</td>\n      <td>4</td>\n      <td>2019-11-01</td>\n      <td>0.0</td>\n      <td>...</td>\n      <td>0.0</td>\n      <td>0.0</td>\n      <td>0.0</td>\n      <td>0.0</td>\n      <td>0.0</td>\n      <td>0.0</td>\n      <td>10</td>\n      <td>1</td>\n      <td>4</td>\n      <td>0</td>\n    </tr>\n    <tr>\n      <th>1</th>\n      <td>549.0</td>\n      <td>7.40722</td>\n      <td>2019-11-01 04:00:00+00:00</td>\n      <td>2019</td>\n      <td>11</td>\n      <td>1</td>\n      <td>4</td>\n      <td>4</td>\n      <td>2019-11-01</td>\n      <td>0.0</td>\n      <td>...</td>\n      <td>0.0</td>\n      <td>0.0</td>\n      <td>0.0</td>\n      <td>0.0</td>\n      <td>0.0</td>\n      <td>0.0</td>\n      <td>10</td>\n      <td>1</td>\n      <td>4</td>\n      <td>0</td>\n    </tr>\n    <tr>\n      <th>2</th>\n      <td>503.0</td>\n      <td>7.66667</td>\n      <td>2019-11-01 05:00:00+00:00</td>\n      <td>2019</td>\n      <td>11</td>\n      <td>1</td>\n      <td>5</td>\n      <td>4</td>\n      <td>2019-11-01</td>\n      <td>0.0</td>\n      <td>...</td>\n      <td>0.0</td>\n      <td>0.0</td>\n      <td>0.0</td>\n      <td>0.0</td>\n      <td>0.0</td>\n      <td>0.0</td>\n      <td>10</td>\n      <td>1</td>\n      <td>4</td>\n      <td>0</td>\n    </tr>\n    <tr>\n      <th>3</th>\n      <td>500.0</td>\n      <td>4.75500</td>\n      <td>2019-11-01 06:00:00+00:00</td>\n      <td>2019</td>\n      <td>11</td>\n      <td>1</td>\n      <td>6</td>\n      <td>4</td>\n      <td>2019-11-01</td>\n      <td>0.0</td>\n      <td>...</td>\n      <td>0.0</td>\n      <td>0.0</td>\n      <td>0.0</td>\n      <td>0.0</td>\n      <td>0.0</td>\n      <td>0.0</td>\n      <td>10</td>\n      <td>1</td>\n      <td>4</td>\n      <td>0</td>\n    </tr>\n    <tr>\n      <th>4</th>\n      <td>525.0</td>\n      <td>5.37389</td>\n      <td>2019-11-01 07:00:00+00:00</td>\n      <td>2019</td>\n      <td>11</td>\n      <td>1</td>\n      <td>7</td>\n      <td>4</td>\n      <td>2019-11-01</td>\n      <td>0.0</td>\n      <td>...</td>\n      <td>0.0</td>\n      <td>0.0</td>\n      <td>0.0</td>\n      <td>0.0</td>\n      <td>0.0</td>\n      <td>0.0</td>\n      <td>10</td>\n      <td>1</td>\n      <td>4</td>\n      <td>0</td>\n    </tr>\n  </tbody>\n</table>\n<p>5 rows × 22 columns</p>\n</div>"
     },
     "metadata": {},
     "execution_count": 15
    }
   ],
   "source": [
    "data_champs_covid_holidays.head()"
   ]
  },
  {
   "cell_type": "markdown",
   "metadata": {},
   "source": [
    "## Add Meteo data"
   ]
  },
  {
   "cell_type": "markdown",
   "metadata": {},
   "source": [
    "## Save data"
   ]
  },
  {
   "cell_type": "code",
   "execution_count": 16,
   "metadata": {},
   "outputs": [],
   "source": [
    "data_champs_covid_holidays.to_csv(os.path.join(args['output'], 'final_champs.csv'), sep=';')\n",
    "data_convention_covid_holidays.to_csv(os.path.join(args['output'], 'final_convention.csv'), sep=';')\n",
    "data_peres_covid_holidays.to_csv(os.path.join(args['output'], 'final_peres.csv'), sep=';')\n",
    "np.savetxt(os.path.join(args['output'], 'ferie_correspondance.csv'), ferie_classes.to_numpy(), fmt=\"%s\")\n",
    "np.savetxt(os.path.join(args['output'], 'vacance_correspondance.csv'), vacance_classes.to_numpy(), fmt=\"%s\")"
   ]
  },
  {
   "cell_type": "code",
   "execution_count": 17,
   "metadata": {},
   "outputs": [
    {
     "output_type": "execute_result",
     "data": {
      "text/plain": [
       "<matplotlib.axes._subplots.AxesSubplot at 0x22c1f3ba760>"
      ]
     },
     "metadata": {},
     "execution_count": 17
    },
    {
     "output_type": "display_data",
     "data": {
      "text/plain": "<Figure size 432x288 with 1 Axes>",
      "image/svg+xml": "<?xml version=\"1.0\" encoding=\"utf-8\" standalone=\"no\"?>\r\n<!DOCTYPE svg PUBLIC \"-//W3C//DTD SVG 1.1//EN\"\r\n  \"http://www.w3.org/Graphics/SVG/1.1/DTD/svg11.dtd\">\r\n<!-- Created with matplotlib (https://matplotlib.org/) -->\r\n<svg height=\"248.518125pt\" version=\"1.1\" viewBox=\"0 0 381.65 248.518125\" width=\"381.65pt\" xmlns=\"http://www.w3.org/2000/svg\" xmlns:xlink=\"http://www.w3.org/1999/xlink\">\r\n <defs>\r\n  <style type=\"text/css\">\r\n*{stroke-linecap:butt;stroke-linejoin:round;}\r\n  </style>\r\n </defs>\r\n <g id=\"figure_1\">\r\n  <g id=\"patch_1\">\r\n   <path d=\"M -0 248.518125 \r\nL 381.65 248.518125 \r\nL 381.65 0 \r\nL -0 0 \r\nz\r\n\" style=\"fill:none;\"/>\r\n  </g>\r\n  <g id=\"axes_1\">\r\n   <g id=\"patch_2\">\r\n    <path d=\"M 39.65 224.64 \r\nL 374.45 224.64 \r\nL 374.45 7.2 \r\nL 39.65 7.2 \r\nz\r\n\" style=\"fill:#ffffff;\"/>\r\n   </g>\r\n   <g id=\"matplotlib.axis_1\">\r\n    <g id=\"xtick_1\">\r\n     <g id=\"line2d_1\">\r\n      <defs>\r\n       <path d=\"M 0 0 \r\nL 0 3.5 \r\n\" id=\"mb2f854ddd7\" style=\"stroke:#000000;stroke-width:0.8;\"/>\r\n      </defs>\r\n      <g>\r\n       <use style=\"stroke:#000000;stroke-width:0.8;\" x=\"58.513255\" xlink:href=\"#mb2f854ddd7\" y=\"224.64\"/>\r\n      </g>\r\n     </g>\r\n     <g id=\"text_1\">\r\n      <!-- 9575 -->\r\n      <defs>\r\n       <path d=\"M 10.984375 1.515625 \r\nL 10.984375 10.5 \r\nQ 14.703125 8.734375 18.5 7.8125 \r\nQ 22.3125 6.890625 25.984375 6.890625 \r\nQ 35.75 6.890625 40.890625 13.453125 \r\nQ 46.046875 20.015625 46.78125 33.40625 \r\nQ 43.953125 29.203125 39.59375 26.953125 \r\nQ 35.25 24.703125 29.984375 24.703125 \r\nQ 19.046875 24.703125 12.671875 31.3125 \r\nQ 6.296875 37.9375 6.296875 49.421875 \r\nQ 6.296875 60.640625 12.9375 67.421875 \r\nQ 19.578125 74.21875 30.609375 74.21875 \r\nQ 43.265625 74.21875 49.921875 64.515625 \r\nQ 56.59375 54.828125 56.59375 36.375 \r\nQ 56.59375 19.140625 48.40625 8.859375 \r\nQ 40.234375 -1.421875 26.421875 -1.421875 \r\nQ 22.703125 -1.421875 18.890625 -0.6875 \r\nQ 15.09375 0.046875 10.984375 1.515625 \r\nz\r\nM 30.609375 32.421875 \r\nQ 37.25 32.421875 41.125 36.953125 \r\nQ 45.015625 41.5 45.015625 49.421875 \r\nQ 45.015625 57.28125 41.125 61.84375 \r\nQ 37.25 66.40625 30.609375 66.40625 \r\nQ 23.96875 66.40625 20.09375 61.84375 \r\nQ 16.21875 57.28125 16.21875 49.421875 \r\nQ 16.21875 41.5 20.09375 36.953125 \r\nQ 23.96875 32.421875 30.609375 32.421875 \r\nz\r\n\" id=\"DejaVuSans-57\"/>\r\n       <path d=\"M 10.796875 72.90625 \r\nL 49.515625 72.90625 \r\nL 49.515625 64.59375 \r\nL 19.828125 64.59375 \r\nL 19.828125 46.734375 \r\nQ 21.96875 47.46875 24.109375 47.828125 \r\nQ 26.265625 48.1875 28.421875 48.1875 \r\nQ 40.625 48.1875 47.75 41.5 \r\nQ 54.890625 34.8125 54.890625 23.390625 \r\nQ 54.890625 11.625 47.5625 5.09375 \r\nQ 40.234375 -1.421875 26.90625 -1.421875 \r\nQ 22.3125 -1.421875 17.546875 -0.640625 \r\nQ 12.796875 0.140625 7.71875 1.703125 \r\nL 7.71875 11.625 \r\nQ 12.109375 9.234375 16.796875 8.0625 \r\nQ 21.484375 6.890625 26.703125 6.890625 \r\nQ 35.15625 6.890625 40.078125 11.328125 \r\nQ 45.015625 15.765625 45.015625 23.390625 \r\nQ 45.015625 31 40.078125 35.4375 \r\nQ 35.15625 39.890625 26.703125 39.890625 \r\nQ 22.75 39.890625 18.8125 39.015625 \r\nQ 14.890625 38.140625 10.796875 36.28125 \r\nz\r\n\" id=\"DejaVuSans-53\"/>\r\n       <path d=\"M 8.203125 72.90625 \r\nL 55.078125 72.90625 \r\nL 55.078125 68.703125 \r\nL 28.609375 0 \r\nL 18.3125 0 \r\nL 43.21875 64.59375 \r\nL 8.203125 64.59375 \r\nz\r\n\" id=\"DejaVuSans-55\"/>\r\n      </defs>\r\n      <g transform=\"translate(45.788255 239.238437)scale(0.1 -0.1)\">\r\n       <use xlink:href=\"#DejaVuSans-57\"/>\r\n       <use x=\"63.623047\" xlink:href=\"#DejaVuSans-53\"/>\r\n       <use x=\"127.246094\" xlink:href=\"#DejaVuSans-55\"/>\r\n       <use x=\"190.869141\" xlink:href=\"#DejaVuSans-53\"/>\r\n      </g>\r\n     </g>\r\n    </g>\r\n    <g id=\"xtick_2\">\r\n     <g id=\"line2d_2\">\r\n      <g>\r\n       <use style=\"stroke:#000000;stroke-width:0.8;\" x=\"104.076674\" xlink:href=\"#mb2f854ddd7\" y=\"224.64\"/>\r\n      </g>\r\n     </g>\r\n     <g id=\"text_2\">\r\n      <!-- 9600 -->\r\n      <defs>\r\n       <path d=\"M 33.015625 40.375 \r\nQ 26.375 40.375 22.484375 35.828125 \r\nQ 18.609375 31.296875 18.609375 23.390625 \r\nQ 18.609375 15.53125 22.484375 10.953125 \r\nQ 26.375 6.390625 33.015625 6.390625 \r\nQ 39.65625 6.390625 43.53125 10.953125 \r\nQ 47.40625 15.53125 47.40625 23.390625 \r\nQ 47.40625 31.296875 43.53125 35.828125 \r\nQ 39.65625 40.375 33.015625 40.375 \r\nz\r\nM 52.59375 71.296875 \r\nL 52.59375 62.3125 \r\nQ 48.875 64.0625 45.09375 64.984375 \r\nQ 41.3125 65.921875 37.59375 65.921875 \r\nQ 27.828125 65.921875 22.671875 59.328125 \r\nQ 17.53125 52.734375 16.796875 39.40625 \r\nQ 19.671875 43.65625 24.015625 45.921875 \r\nQ 28.375 48.1875 33.59375 48.1875 \r\nQ 44.578125 48.1875 50.953125 41.515625 \r\nQ 57.328125 34.859375 57.328125 23.390625 \r\nQ 57.328125 12.15625 50.6875 5.359375 \r\nQ 44.046875 -1.421875 33.015625 -1.421875 \r\nQ 20.359375 -1.421875 13.671875 8.265625 \r\nQ 6.984375 17.96875 6.984375 36.375 \r\nQ 6.984375 53.65625 15.1875 63.9375 \r\nQ 23.390625 74.21875 37.203125 74.21875 \r\nQ 40.921875 74.21875 44.703125 73.484375 \r\nQ 48.484375 72.75 52.59375 71.296875 \r\nz\r\n\" id=\"DejaVuSans-54\"/>\r\n       <path d=\"M 31.78125 66.40625 \r\nQ 24.171875 66.40625 20.328125 58.90625 \r\nQ 16.5 51.421875 16.5 36.375 \r\nQ 16.5 21.390625 20.328125 13.890625 \r\nQ 24.171875 6.390625 31.78125 6.390625 \r\nQ 39.453125 6.390625 43.28125 13.890625 \r\nQ 47.125 21.390625 47.125 36.375 \r\nQ 47.125 51.421875 43.28125 58.90625 \r\nQ 39.453125 66.40625 31.78125 66.40625 \r\nz\r\nM 31.78125 74.21875 \r\nQ 44.046875 74.21875 50.515625 64.515625 \r\nQ 56.984375 54.828125 56.984375 36.375 \r\nQ 56.984375 17.96875 50.515625 8.265625 \r\nQ 44.046875 -1.421875 31.78125 -1.421875 \r\nQ 19.53125 -1.421875 13.0625 8.265625 \r\nQ 6.59375 17.96875 6.59375 36.375 \r\nQ 6.59375 54.828125 13.0625 64.515625 \r\nQ 19.53125 74.21875 31.78125 74.21875 \r\nz\r\n\" id=\"DejaVuSans-48\"/>\r\n      </defs>\r\n      <g transform=\"translate(91.351674 239.238437)scale(0.1 -0.1)\">\r\n       <use xlink:href=\"#DejaVuSans-57\"/>\r\n       <use x=\"63.623047\" xlink:href=\"#DejaVuSans-54\"/>\r\n       <use x=\"127.246094\" xlink:href=\"#DejaVuSans-48\"/>\r\n       <use x=\"190.869141\" xlink:href=\"#DejaVuSans-48\"/>\r\n      </g>\r\n     </g>\r\n    </g>\r\n    <g id=\"xtick_3\">\r\n     <g id=\"line2d_3\">\r\n      <g>\r\n       <use style=\"stroke:#000000;stroke-width:0.8;\" x=\"149.640093\" xlink:href=\"#mb2f854ddd7\" y=\"224.64\"/>\r\n      </g>\r\n     </g>\r\n     <g id=\"text_3\">\r\n      <!-- 9625 -->\r\n      <defs>\r\n       <path d=\"M 19.1875 8.296875 \r\nL 53.609375 8.296875 \r\nL 53.609375 0 \r\nL 7.328125 0 \r\nL 7.328125 8.296875 \r\nQ 12.9375 14.109375 22.625 23.890625 \r\nQ 32.328125 33.6875 34.8125 36.53125 \r\nQ 39.546875 41.84375 41.421875 45.53125 \r\nQ 43.3125 49.21875 43.3125 52.78125 \r\nQ 43.3125 58.59375 39.234375 62.25 \r\nQ 35.15625 65.921875 28.609375 65.921875 \r\nQ 23.96875 65.921875 18.8125 64.3125 \r\nQ 13.671875 62.703125 7.8125 59.421875 \r\nL 7.8125 69.390625 \r\nQ 13.765625 71.78125 18.9375 73 \r\nQ 24.125 74.21875 28.421875 74.21875 \r\nQ 39.75 74.21875 46.484375 68.546875 \r\nQ 53.21875 62.890625 53.21875 53.421875 \r\nQ 53.21875 48.921875 51.53125 44.890625 \r\nQ 49.859375 40.875 45.40625 35.40625 \r\nQ 44.1875 33.984375 37.640625 27.21875 \r\nQ 31.109375 20.453125 19.1875 8.296875 \r\nz\r\n\" id=\"DejaVuSans-50\"/>\r\n      </defs>\r\n      <g transform=\"translate(136.915093 239.238437)scale(0.1 -0.1)\">\r\n       <use xlink:href=\"#DejaVuSans-57\"/>\r\n       <use x=\"63.623047\" xlink:href=\"#DejaVuSans-54\"/>\r\n       <use x=\"127.246094\" xlink:href=\"#DejaVuSans-50\"/>\r\n       <use x=\"190.869141\" xlink:href=\"#DejaVuSans-53\"/>\r\n      </g>\r\n     </g>\r\n    </g>\r\n    <g id=\"xtick_4\">\r\n     <g id=\"line2d_4\">\r\n      <g>\r\n       <use style=\"stroke:#000000;stroke-width:0.8;\" x=\"195.203511\" xlink:href=\"#mb2f854ddd7\" y=\"224.64\"/>\r\n      </g>\r\n     </g>\r\n     <g id=\"text_4\">\r\n      <!-- 9650 -->\r\n      <g transform=\"translate(182.478511 239.238437)scale(0.1 -0.1)\">\r\n       <use xlink:href=\"#DejaVuSans-57\"/>\r\n       <use x=\"63.623047\" xlink:href=\"#DejaVuSans-54\"/>\r\n       <use x=\"127.246094\" xlink:href=\"#DejaVuSans-53\"/>\r\n       <use x=\"190.869141\" xlink:href=\"#DejaVuSans-48\"/>\r\n      </g>\r\n     </g>\r\n    </g>\r\n    <g id=\"xtick_5\">\r\n     <g id=\"line2d_5\">\r\n      <g>\r\n       <use style=\"stroke:#000000;stroke-width:0.8;\" x=\"240.76693\" xlink:href=\"#mb2f854ddd7\" y=\"224.64\"/>\r\n      </g>\r\n     </g>\r\n     <g id=\"text_5\">\r\n      <!-- 9675 -->\r\n      <g transform=\"translate(228.04193 239.238437)scale(0.1 -0.1)\">\r\n       <use xlink:href=\"#DejaVuSans-57\"/>\r\n       <use x=\"63.623047\" xlink:href=\"#DejaVuSans-54\"/>\r\n       <use x=\"127.246094\" xlink:href=\"#DejaVuSans-55\"/>\r\n       <use x=\"190.869141\" xlink:href=\"#DejaVuSans-53\"/>\r\n      </g>\r\n     </g>\r\n    </g>\r\n    <g id=\"xtick_6\">\r\n     <g id=\"line2d_6\">\r\n      <g>\r\n       <use style=\"stroke:#000000;stroke-width:0.8;\" x=\"286.330348\" xlink:href=\"#mb2f854ddd7\" y=\"224.64\"/>\r\n      </g>\r\n     </g>\r\n     <g id=\"text_6\">\r\n      <!-- 9700 -->\r\n      <g transform=\"translate(273.605348 239.238437)scale(0.1 -0.1)\">\r\n       <use xlink:href=\"#DejaVuSans-57\"/>\r\n       <use x=\"63.623047\" xlink:href=\"#DejaVuSans-55\"/>\r\n       <use x=\"127.246094\" xlink:href=\"#DejaVuSans-48\"/>\r\n       <use x=\"190.869141\" xlink:href=\"#DejaVuSans-48\"/>\r\n      </g>\r\n     </g>\r\n    </g>\r\n    <g id=\"xtick_7\">\r\n     <g id=\"line2d_7\">\r\n      <g>\r\n       <use style=\"stroke:#000000;stroke-width:0.8;\" x=\"331.893767\" xlink:href=\"#mb2f854ddd7\" y=\"224.64\"/>\r\n      </g>\r\n     </g>\r\n     <g id=\"text_7\">\r\n      <!-- 9725 -->\r\n      <g transform=\"translate(319.168767 239.238437)scale(0.1 -0.1)\">\r\n       <use xlink:href=\"#DejaVuSans-57\"/>\r\n       <use x=\"63.623047\" xlink:href=\"#DejaVuSans-55\"/>\r\n       <use x=\"127.246094\" xlink:href=\"#DejaVuSans-50\"/>\r\n       <use x=\"190.869141\" xlink:href=\"#DejaVuSans-53\"/>\r\n      </g>\r\n     </g>\r\n    </g>\r\n   </g>\r\n   <g id=\"matplotlib.axis_2\">\r\n    <g id=\"ytick_1\">\r\n     <g id=\"line2d_8\">\r\n      <defs>\r\n       <path d=\"M 0 0 \r\nL -3.5 0 \r\n\" id=\"mba445de5fd\" style=\"stroke:#000000;stroke-width:0.8;\"/>\r\n      </defs>\r\n      <g>\r\n       <use style=\"stroke:#000000;stroke-width:0.8;\" x=\"39.65\" xlink:href=\"#mba445de5fd\" y=\"224.169351\"/>\r\n      </g>\r\n     </g>\r\n     <g id=\"text_8\">\r\n      <!-- 0 -->\r\n      <g transform=\"translate(26.2875 227.968569)scale(0.1 -0.1)\">\r\n       <use xlink:href=\"#DejaVuSans-48\"/>\r\n      </g>\r\n     </g>\r\n    </g>\r\n    <g id=\"ytick_2\">\r\n     <g id=\"line2d_9\">\r\n      <g>\r\n       <use style=\"stroke:#000000;stroke-width:0.8;\" x=\"39.65\" xlink:href=\"#mba445de5fd\" y=\"184.114087\"/>\r\n      </g>\r\n     </g>\r\n     <g id=\"text_9\">\r\n      <!-- 200 -->\r\n      <g transform=\"translate(13.5625 187.913306)scale(0.1 -0.1)\">\r\n       <use xlink:href=\"#DejaVuSans-50\"/>\r\n       <use x=\"63.623047\" xlink:href=\"#DejaVuSans-48\"/>\r\n       <use x=\"127.246094\" xlink:href=\"#DejaVuSans-48\"/>\r\n      </g>\r\n     </g>\r\n    </g>\r\n    <g id=\"ytick_3\">\r\n     <g id=\"line2d_10\">\r\n      <g>\r\n       <use style=\"stroke:#000000;stroke-width:0.8;\" x=\"39.65\" xlink:href=\"#mba445de5fd\" y=\"144.058823\"/>\r\n      </g>\r\n     </g>\r\n     <g id=\"text_10\">\r\n      <!-- 400 -->\r\n      <defs>\r\n       <path d=\"M 37.796875 64.3125 \r\nL 12.890625 25.390625 \r\nL 37.796875 25.390625 \r\nz\r\nM 35.203125 72.90625 \r\nL 47.609375 72.90625 \r\nL 47.609375 25.390625 \r\nL 58.015625 25.390625 \r\nL 58.015625 17.1875 \r\nL 47.609375 17.1875 \r\nL 47.609375 0 \r\nL 37.796875 0 \r\nL 37.796875 17.1875 \r\nL 4.890625 17.1875 \r\nL 4.890625 26.703125 \r\nz\r\n\" id=\"DejaVuSans-52\"/>\r\n      </defs>\r\n      <g transform=\"translate(13.5625 147.858042)scale(0.1 -0.1)\">\r\n       <use xlink:href=\"#DejaVuSans-52\"/>\r\n       <use x=\"63.623047\" xlink:href=\"#DejaVuSans-48\"/>\r\n       <use x=\"127.246094\" xlink:href=\"#DejaVuSans-48\"/>\r\n      </g>\r\n     </g>\r\n    </g>\r\n    <g id=\"ytick_4\">\r\n     <g id=\"line2d_11\">\r\n      <g>\r\n       <use style=\"stroke:#000000;stroke-width:0.8;\" x=\"39.65\" xlink:href=\"#mba445de5fd\" y=\"104.003559\"/>\r\n      </g>\r\n     </g>\r\n     <g id=\"text_11\">\r\n      <!-- 600 -->\r\n      <g transform=\"translate(13.5625 107.802778)scale(0.1 -0.1)\">\r\n       <use xlink:href=\"#DejaVuSans-54\"/>\r\n       <use x=\"63.623047\" xlink:href=\"#DejaVuSans-48\"/>\r\n       <use x=\"127.246094\" xlink:href=\"#DejaVuSans-48\"/>\r\n      </g>\r\n     </g>\r\n    </g>\r\n    <g id=\"ytick_5\">\r\n     <g id=\"line2d_12\">\r\n      <g>\r\n       <use style=\"stroke:#000000;stroke-width:0.8;\" x=\"39.65\" xlink:href=\"#mba445de5fd\" y=\"63.948295\"/>\r\n      </g>\r\n     </g>\r\n     <g id=\"text_12\">\r\n      <!-- 800 -->\r\n      <defs>\r\n       <path d=\"M 31.78125 34.625 \r\nQ 24.75 34.625 20.71875 30.859375 \r\nQ 16.703125 27.09375 16.703125 20.515625 \r\nQ 16.703125 13.921875 20.71875 10.15625 \r\nQ 24.75 6.390625 31.78125 6.390625 \r\nQ 38.8125 6.390625 42.859375 10.171875 \r\nQ 46.921875 13.96875 46.921875 20.515625 \r\nQ 46.921875 27.09375 42.890625 30.859375 \r\nQ 38.875 34.625 31.78125 34.625 \r\nz\r\nM 21.921875 38.8125 \r\nQ 15.578125 40.375 12.03125 44.71875 \r\nQ 8.5 49.078125 8.5 55.328125 \r\nQ 8.5 64.0625 14.71875 69.140625 \r\nQ 20.953125 74.21875 31.78125 74.21875 \r\nQ 42.671875 74.21875 48.875 69.140625 \r\nQ 55.078125 64.0625 55.078125 55.328125 \r\nQ 55.078125 49.078125 51.53125 44.71875 \r\nQ 48 40.375 41.703125 38.8125 \r\nQ 48.828125 37.15625 52.796875 32.3125 \r\nQ 56.78125 27.484375 56.78125 20.515625 \r\nQ 56.78125 9.90625 50.3125 4.234375 \r\nQ 43.84375 -1.421875 31.78125 -1.421875 \r\nQ 19.734375 -1.421875 13.25 4.234375 \r\nQ 6.78125 9.90625 6.78125 20.515625 \r\nQ 6.78125 27.484375 10.78125 32.3125 \r\nQ 14.796875 37.15625 21.921875 38.8125 \r\nz\r\nM 18.3125 54.390625 \r\nQ 18.3125 48.734375 21.84375 45.5625 \r\nQ 25.390625 42.390625 31.78125 42.390625 \r\nQ 38.140625 42.390625 41.71875 45.5625 \r\nQ 45.3125 48.734375 45.3125 54.390625 \r\nQ 45.3125 60.0625 41.71875 63.234375 \r\nQ 38.140625 66.40625 31.78125 66.40625 \r\nQ 25.390625 66.40625 21.84375 63.234375 \r\nQ 18.3125 60.0625 18.3125 54.390625 \r\nz\r\n\" id=\"DejaVuSans-56\"/>\r\n      </defs>\r\n      <g transform=\"translate(13.5625 67.747514)scale(0.1 -0.1)\">\r\n       <use xlink:href=\"#DejaVuSans-56\"/>\r\n       <use x=\"63.623047\" xlink:href=\"#DejaVuSans-48\"/>\r\n       <use x=\"127.246094\" xlink:href=\"#DejaVuSans-48\"/>\r\n      </g>\r\n     </g>\r\n    </g>\r\n    <g id=\"ytick_6\">\r\n     <g id=\"line2d_13\">\r\n      <g>\r\n       <use style=\"stroke:#000000;stroke-width:0.8;\" x=\"39.65\" xlink:href=\"#mba445de5fd\" y=\"23.893031\"/>\r\n      </g>\r\n     </g>\r\n     <g id=\"text_13\">\r\n      <!-- 1000 -->\r\n      <defs>\r\n       <path d=\"M 12.40625 8.296875 \r\nL 28.515625 8.296875 \r\nL 28.515625 63.921875 \r\nL 10.984375 60.40625 \r\nL 10.984375 69.390625 \r\nL 28.421875 72.90625 \r\nL 38.28125 72.90625 \r\nL 38.28125 8.296875 \r\nL 54.390625 8.296875 \r\nL 54.390625 0 \r\nL 12.40625 0 \r\nz\r\n\" id=\"DejaVuSans-49\"/>\r\n      </defs>\r\n      <g transform=\"translate(7.2 27.69225)scale(0.1 -0.1)\">\r\n       <use xlink:href=\"#DejaVuSans-49\"/>\r\n       <use x=\"63.623047\" xlink:href=\"#DejaVuSans-48\"/>\r\n       <use x=\"127.246094\" xlink:href=\"#DejaVuSans-48\"/>\r\n       <use x=\"190.869141\" xlink:href=\"#DejaVuSans-48\"/>\r\n      </g>\r\n     </g>\r\n    </g>\r\n   </g>\r\n   <g id=\"line2d_14\">\r\n    <path clip-path=\"url(#p0c921fe065)\" d=\"M 54.868182 187.719061 \r\nL 56.690719 202.539508 \r\nL 60.335792 205.343377 \r\nL 62.158329 205.944206 \r\nL 63.980866 203.54089 \r\nL 65.803402 173.299166 \r\nL 67.625939 121.027046 \r\nL 69.448476 63.547742 \r\nL 71.271013 74.56294 \r\nL 73.093549 69.956585 \r\nL 74.916086 70.156861 \r\nL 76.738623 46.724532 \r\nL 78.561159 41.317071 \r\nL 80.383696 50.529782 \r\nL 82.206233 54.935861 \r\nL 84.02877 38.913755 \r\nL 85.851306 48.927571 \r\nL 87.673843 50.129229 \r\nL 89.49638 27.097452 \r\nL 91.318917 98.596098 \r\nL 93.141453 142.857165 \r\nL 96.786527 177.304692 \r\nL 98.609064 175.502205 \r\nL 100.4316 178.105797 \r\nL 102.254137 188.720442 \r\nL 104.076674 197.732876 \r\nL 105.899211 203.340613 \r\nL 107.721747 207.145863 \r\nL 109.544284 189.9221 \r\nL 111.366821 168.69281 \r\nL 113.189358 151.068494 \r\nL 115.011894 125.833678 \r\nL 116.834431 109.811572 \r\nL 118.656968 87.981453 \r\nL 120.479505 63.347466 \r\nL 122.302041 72.760453 \r\nL 124.124578 59.542216 \r\nL 125.947115 78.969019 \r\nL 127.769652 50.529782 \r\nL 129.592188 72.760453 \r\nL 131.414725 60.343321 \r\nL 133.237262 80.57123 \r\nL 135.059799 97.194164 \r\nL 136.882335 142.656889 \r\nL 138.704872 171.296402 \r\nL 140.527409 170.295021 \r\nL 142.349946 182.712153 \r\nL 144.172482 173.098889 \r\nL 145.995019 188.720442 \r\nL 147.817556 197.132048 \r\nL 149.640093 204.341995 \r\nL 151.462629 206.745311 \r\nL 153.285166 201.938679 \r\nL 155.107703 198.333705 \r\nL 156.93024 187.719061 \r\nL 158.752776 179.908284 \r\nL 160.575313 148.064349 \r\nL 162.39785 129.839204 \r\nL 164.220386 87.580901 \r\nL 166.042923 114.81848 \r\nL 167.86546 99.998033 \r\nL 169.687997 82.774269 \r\nL 171.510533 90.184493 \r\nL 173.33307 64.348848 \r\nL 175.155607 79.169295 \r\nL 176.978144 86.779796 \r\nL 178.80068 122.829533 \r\nL 180.623217 151.068494 \r\nL 182.445754 166.289494 \r\nL 184.268291 187.118232 \r\nL 187.913364 214.756364 \r\nL 189.735901 214.556087 \r\nL 191.558438 212.353048 \r\nL 193.380974 213.354429 \r\nL 195.203511 201.538127 \r\nL 197.026048 163.685902 \r\nL 200.671121 60.543598 \r\nL 202.493658 70.357137 \r\nL 204.316195 90.585046 \r\nL 206.138732 75.364045 \r\nL 207.961268 67.152716 \r\nL 209.783805 65.750782 \r\nL 211.606342 76.365427 \r\nL 213.428879 65.550506 \r\nL 215.251415 46.524255 \r\nL 217.073952 40.716242 \r\nL 218.896489 45.122321 \r\nL 220.719026 62.546361 \r\nL 222.541562 108.609914 \r\nL 224.364099 133.243902 \r\nL 226.186636 177.504968 \r\nL 228.009173 187.919337 \r\nL 229.831709 197.132048 \r\nL 231.654246 205.543653 \r\nL 233.476783 210.350285 \r\nL 235.29932 214.355811 \r\nL 237.121856 211.551943 \r\nL 238.944393 200.136192 \r\nL 242.589467 111.614059 \r\nL 244.412003 64.148571 \r\nL 246.23454 91.386151 \r\nL 248.057077 81.973164 \r\nL 249.879614 79.369572 \r\nL 251.70215 68.55465 \r\nL 253.524687 65.951058 \r\nL 255.347224 43.119558 \r\nL 257.16976 66.551887 \r\nL 258.992297 52.532545 \r\nL 260.814834 30.50215 \r\nL 262.637371 27.498005 \r\nL 264.459907 56.337795 \r\nL 266.282444 91.185875 \r\nL 268.104981 147.062968 \r\nL 269.927518 172.297784 \r\nL 271.750054 179.307455 \r\nL 273.572591 143.377883 \r\nL 275.395128 170.695573 \r\nL 277.217665 191.764642 \r\nL 279.040201 205.703874 \r\nL 280.862738 204.141719 \r\nL 282.685275 190.482874 \r\nL 284.507812 152.911036 \r\nL 286.330348 94.390296 \r\nL 288.152885 81.372335 \r\nL 289.975422 69.876474 \r\nL 291.797959 75.644432 \r\nL 293.620495 48.046355 \r\nL 295.443032 34.467621 \r\nL 297.265569 54.695529 \r\nL 299.088106 54.294977 \r\nL 300.910642 63.547742 \r\nL 302.733179 57.81984 \r\nL 304.555716 46.323979 \r\nL 306.378253 31.823973 \r\nL 308.200789 35.388892 \r\nL 310.023326 41.277016 \r\nL 311.845863 63.868185 \r\nL 313.6684 100.398585 \r\nL 315.490936 103.763227 \r\nL 317.313473 189.521547 \r\nL 319.13601 202.739784 \r\nL 320.958547 204.742548 \r\nL 322.781083 209.549179 \r\nL 324.60362 207.746692 \r\nL 326.426157 203.340613 \r\nL 328.248694 165.888942 \r\nL 330.07123 118.223178 \r\nL 331.893767 84.37648 \r\nL 333.716304 85.177585 \r\nL 335.538841 82.17344 \r\nL 337.361377 84.977309 \r\nL 339.183914 69.155479 \r\nL 341.006451 66.351611 \r\nL 342.828987 54.935861 \r\nL 344.651524 59.542216 \r\nL 346.474061 53.133374 \r\nL 348.296598 17.083636 \r\nL 350.119134 45.923426 \r\nL 351.941671 54.535308 \r\nL 353.764208 87.580901 \r\nL 355.586745 134.045007 \r\nL 357.409281 168.492534 \r\nL 359.231818 175.101652 \r\nL 359.231818 175.101652 \r\n\" style=\"fill:none;stroke:#1f77b4;stroke-linecap:square;stroke-width:1.5;\"/>\r\n   </g>\r\n   <g id=\"patch_3\">\r\n    <path d=\"M 39.65 224.64 \r\nL 39.65 7.2 \r\n\" style=\"fill:none;stroke:#000000;stroke-linecap:square;stroke-linejoin:miter;stroke-width:0.8;\"/>\r\n   </g>\r\n   <g id=\"patch_4\">\r\n    <path d=\"M 374.45 224.64 \r\nL 374.45 7.2 \r\n\" style=\"fill:none;stroke:#000000;stroke-linecap:square;stroke-linejoin:miter;stroke-width:0.8;\"/>\r\n   </g>\r\n   <g id=\"patch_5\">\r\n    <path d=\"M 39.65 224.64 \r\nL 374.45 224.64 \r\n\" style=\"fill:none;stroke:#000000;stroke-linecap:square;stroke-linejoin:miter;stroke-width:0.8;\"/>\r\n   </g>\r\n   <g id=\"patch_6\">\r\n    <path d=\"M 39.65 7.2 \r\nL 374.45 7.2 \r\n\" style=\"fill:none;stroke:#000000;stroke-linecap:square;stroke-linejoin:miter;stroke-width:0.8;\"/>\r\n   </g>\r\n  </g>\r\n </g>\r\n <defs>\r\n  <clipPath id=\"p0c921fe065\">\r\n   <rect height=\"217.44\" width=\"334.8\" x=\"39.65\" y=\"7.2\"/>\r\n  </clipPath>\r\n </defs>\r\n</svg>\r\n",
      "image/png": "[encoded data removed]"
     },
     "metadata": {
      "needs_background": "light"
     }
    }
   ],
   "source": [
    "data_convention_covid_holidays.iloc[-168:][\"Débit horaire\"].plot()"
   ]
  },
  {
   "cell_type": "code",
   "execution_count": null,
   "metadata": {},
   "outputs": [],
   "source": []
  }
 ],
 "metadata": {
  "kernelspec": {
   "display_name": "Python 3",
   "language": "python",
   "name": "python3"
  },
  "language_info": {
   "codemirror_mode": {
    "name": "ipython",
    "version": 3
   },
   "file_extension": ".py",
   "mimetype": "text/x-python",
   "name": "python",
   "nbconvert_exporter": "python",
   "pygments_lexer": "ipython3",
   "version": "3.8.6-final"
  }
 },
 "nbformat": 4,
 "nbformat_minor": 2
}