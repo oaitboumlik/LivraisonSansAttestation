{
 "metadata": {
  "language_info": {
   "codemirror_mode": {
    "name": "ipython",
    "version": 3
   },
   "file_extension": ".py",
   "mimetype": "text/x-python",
   "name": "python",
   "nbconvert_exporter": "python",
   "pygments_lexer": "ipython3",
   "version": "3.8.3-final"
  },
  "orig_nbformat": 2,
  "kernelspec": {
   "name": "python3",
   "display_name": "Python 3"
  }
 },
 "nbformat": 4,
 "nbformat_minor": 2,
 "cells": [
  {
   "cell_type": "code",
   "execution_count": 1,
   "metadata": {},
   "outputs": [],
   "source": [
    "import pandas as pd\n",
    "import numpy as np\n",
    "import matplotlib.pyplot as plt\n",
    "import os"
   ]
  },
  {
   "cell_type": "code",
   "execution_count": 2,
   "metadata": {},
   "outputs": [],
   "source": [
    "from prepare_data import preprocess, get_covid_data, add_covid_data, get_holidays_data, add_jours_feries, add_school_holidays"
   ]
  },
  {
   "cell_type": "code",
   "execution_count": 16,
   "metadata": {},
   "outputs": [],
   "source": [
    "args = {\n",
    "    \"data_covid\": '../../data/covid_data',\n",
    "    'data_holidays': '../../data/data_holidays',\n",
    "    'data_polution': '../../data/polution2019',\n",
    "    'data_meteo': '../../data/meteo',\n",
    "    'raw_data': '../../data/raw_data',\n",
    "    'output': '../../data/final_data'\n",
    "}\n"
   ]
  },
  {
   "cell_type": "code",
   "execution_count": 8,
   "metadata": {},
   "outputs": [],
   "source": [
    "raw_convention = pd.read_csv(\n",
    "    os.path.join(args['raw_data'], 'comptages-routiers-permanents-convention.csv'),\n",
    "    sep=\";\")\n",
    "raw_champs = pd.read_csv(\n",
    "    os.path.join(args['raw_data'], 'comptages-routiers-permanents-champs.csv'),\n",
    "    sep=\";\")\n",
    "raw_peres = pd.read_csv(\n",
    "    os.path.join(args['raw_data'], 'comptages-routiers-permanents-peres.csv'),\n",
    "    sep=\";\")"
   ]
  },
  {
   "cell_type": "code",
   "execution_count": 9,
   "metadata": {},
   "outputs": [
    {
     "output_type": "execute_result",
     "data": {
      "text/plain": [
       "                           Débit horaire  Taux d'occupation  \\\n",
       "Date et heure de comptage                                     \n",
       "2019-11-01 03:00:00+00:00          323.0            1.67722   \n",
       "2019-11-01 04:00:00+00:00          272.0            1.41056   \n",
       "2019-11-01 05:00:00+00:00          240.0            1.35667   \n",
       "2019-11-01 06:00:00+00:00          216.0            1.14056   \n",
       "2019-11-01 07:00:00+00:00          260.0            1.85722   \n",
       "\n",
       "                                           datetime  year  month  day  hour  \\\n",
       "Date et heure de comptage                                                     \n",
       "2019-11-01 03:00:00+00:00 2019-11-01 03:00:00+00:00  2019     11    1     3   \n",
       "2019-11-01 04:00:00+00:00 2019-11-01 04:00:00+00:00  2019     11    1     4   \n",
       "2019-11-01 05:00:00+00:00 2019-11-01 05:00:00+00:00  2019     11    1     5   \n",
       "2019-11-01 06:00:00+00:00 2019-11-01 06:00:00+00:00  2019     11    1     6   \n",
       "2019-11-01 07:00:00+00:00 2019-11-01 07:00:00+00:00  2019     11    1     7   \n",
       "\n",
       "                           dayofweek  \n",
       "Date et heure de comptage             \n",
       "2019-11-01 03:00:00+00:00          4  \n",
       "2019-11-01 04:00:00+00:00          4  \n",
       "2019-11-01 05:00:00+00:00          4  \n",
       "2019-11-01 06:00:00+00:00          4  \n",
       "2019-11-01 07:00:00+00:00          4  "
      ],
      "text/html": "<div>\n<style scoped>\n    .dataframe tbody tr th:only-of-type {\n        vertical-align: middle;\n    }\n\n    .dataframe tbody tr th {\n        vertical-align: top;\n    }\n\n    .dataframe thead th {\n        text-align: right;\n    }\n</style>\n<table border=\"1\" class=\"dataframe\">\n  <thead>\n    <tr style=\"text-align: right;\">\n      <th></th>\n      <th>Débit horaire</th>\n      <th>Taux d'occupation</th>\n      <th>datetime</th>\n      <th>year</th>\n      <th>month</th>\n      <th>day</th>\n      <th>hour</th>\n      <th>dayofweek</th>\n    </tr>\n    <tr>\n      <th>Date et heure de comptage</th>\n      <th></th>\n      <th></th>\n      <th></th>\n      <th></th>\n      <th></th>\n      <th></th>\n      <th></th>\n      <th></th>\n    </tr>\n  </thead>\n  <tbody>\n    <tr>\n      <th>2019-11-01 03:00:00+00:00</th>\n      <td>323.0</td>\n      <td>1.67722</td>\n      <td>2019-11-01 03:00:00+00:00</td>\n      <td>2019</td>\n      <td>11</td>\n      <td>1</td>\n      <td>3</td>\n      <td>4</td>\n    </tr>\n    <tr>\n      <th>2019-11-01 04:00:00+00:00</th>\n      <td>272.0</td>\n      <td>1.41056</td>\n      <td>2019-11-01 04:00:00+00:00</td>\n      <td>2019</td>\n      <td>11</td>\n      <td>1</td>\n      <td>4</td>\n      <td>4</td>\n    </tr>\n    <tr>\n      <th>2019-11-01 05:00:00+00:00</th>\n      <td>240.0</td>\n      <td>1.35667</td>\n      <td>2019-11-01 05:00:00+00:00</td>\n      <td>2019</td>\n      <td>11</td>\n      <td>1</td>\n      <td>5</td>\n      <td>4</td>\n    </tr>\n    <tr>\n      <th>2019-11-01 06:00:00+00:00</th>\n      <td>216.0</td>\n      <td>1.14056</td>\n      <td>2019-11-01 06:00:00+00:00</td>\n      <td>2019</td>\n      <td>11</td>\n      <td>1</td>\n      <td>6</td>\n      <td>4</td>\n    </tr>\n    <tr>\n      <th>2019-11-01 07:00:00+00:00</th>\n      <td>260.0</td>\n      <td>1.85722</td>\n      <td>2019-11-01 07:00:00+00:00</td>\n      <td>2019</td>\n      <td>11</td>\n      <td>1</td>\n      <td>7</td>\n      <td>4</td>\n    </tr>\n  </tbody>\n</table>\n</div>"
     },
     "metadata": {},
     "execution_count": 9
    }
   ],
   "source": [
    "data_convention = preprocess(raw_convention)\n",
    "data_champs = preprocess(raw_champs)\n",
    "data_peres = preprocess(raw_peres)\n",
    "data_convention.head()"
   ]
  },
  {
   "source": [
    "## Add Covid data"
   ],
   "cell_type": "markdown",
   "metadata": {}
  },
  {
   "cell_type": "code",
   "execution_count": 10,
   "metadata": {},
   "outputs": [
    {
     "output_type": "execute_result",
     "data": {
      "text/plain": [
       "        Date  C1_School closing  C2_Workplace closing  \\\n",
       "0 2020-01-01                0.0                   0.0   \n",
       "1 2020-01-02                0.0                   0.0   \n",
       "2 2020-01-03                0.0                   0.0   \n",
       "3 2020-01-04                0.0                   0.0   \n",
       "4 2020-01-05                0.0                   0.0   \n",
       "\n",
       "   C3_Cancel public events  C4_Restrictions on gatherings  \\\n",
       "0                      0.0                            0.0   \n",
       "1                      0.0                            0.0   \n",
       "2                      0.0                            0.0   \n",
       "3                      0.0                            0.0   \n",
       "4                      0.0                            0.0   \n",
       "\n",
       "   C5_Close public transport  C6_Stay at home requirements  \\\n",
       "0                        0.0                           0.0   \n",
       "1                        0.0                           0.0   \n",
       "2                        0.0                           0.0   \n",
       "3                        0.0                           0.0   \n",
       "4                        0.0                           0.0   \n",
       "\n",
       "   C7_Restrictions on internal movement  StringencyLegacyIndexForDisplay  \\\n",
       "0                                   0.0                              0.0   \n",
       "1                                   0.0                              0.0   \n",
       "2                                   0.0                              0.0   \n",
       "3                                   0.0                              0.0   \n",
       "4                                   0.0                              0.0   \n",
       "\n",
       "   ContainmentHealthIndexForDisplay  \n",
       "0                               0.0  \n",
       "1                               0.0  \n",
       "2                               0.0  \n",
       "3                               0.0  \n",
       "4                               0.0  "
      ],
      "text/html": "<div>\n<style scoped>\n    .dataframe tbody tr th:only-of-type {\n        vertical-align: middle;\n    }\n\n    .dataframe tbody tr th {\n        vertical-align: top;\n    }\n\n    .dataframe thead th {\n        text-align: right;\n    }\n</style>\n<table border=\"1\" class=\"dataframe\">\n  <thead>\n    <tr style=\"text-align: right;\">\n      <th></th>\n      <th>Date</th>\n      <th>C1_School closing</th>\n      <th>C2_Workplace closing</th>\n      <th>C3_Cancel public events</th>\n      <th>C4_Restrictions on gatherings</th>\n      <th>C5_Close public transport</th>\n      <th>C6_Stay at home requirements</th>\n      <th>C7_Restrictions on internal movement</th>\n      <th>StringencyLegacyIndexForDisplay</th>\n      <th>ContainmentHealthIndexForDisplay</th>\n    </tr>\n  </thead>\n  <tbody>\n    <tr>\n      <th>0</th>\n      <td>2020-01-01</td>\n      <td>0.0</td>\n      <td>0.0</td>\n      <td>0.0</td>\n      <td>0.0</td>\n      <td>0.0</td>\n      <td>0.0</td>\n      <td>0.0</td>\n      <td>0.0</td>\n      <td>0.0</td>\n    </tr>\n    <tr>\n      <th>1</th>\n      <td>2020-01-02</td>\n      <td>0.0</td>\n      <td>0.0</td>\n      <td>0.0</td>\n      <td>0.0</td>\n      <td>0.0</td>\n      <td>0.0</td>\n      <td>0.0</td>\n      <td>0.0</td>\n      <td>0.0</td>\n    </tr>\n    <tr>\n      <th>2</th>\n      <td>2020-01-03</td>\n      <td>0.0</td>\n      <td>0.0</td>\n      <td>0.0</td>\n      <td>0.0</td>\n      <td>0.0</td>\n      <td>0.0</td>\n      <td>0.0</td>\n      <td>0.0</td>\n      <td>0.0</td>\n    </tr>\n    <tr>\n      <th>3</th>\n      <td>2020-01-04</td>\n      <td>0.0</td>\n      <td>0.0</td>\n      <td>0.0</td>\n      <td>0.0</td>\n      <td>0.0</td>\n      <td>0.0</td>\n      <td>0.0</td>\n      <td>0.0</td>\n      <td>0.0</td>\n    </tr>\n    <tr>\n      <th>4</th>\n      <td>2020-01-05</td>\n      <td>0.0</td>\n      <td>0.0</td>\n      <td>0.0</td>\n      <td>0.0</td>\n      <td>0.0</td>\n      <td>0.0</td>\n      <td>0.0</td>\n      <td>0.0</td>\n      <td>0.0</td>\n    </tr>\n  </tbody>\n</table>\n</div>"
     },
     "metadata": {},
     "execution_count": 10
    }
   ],
   "source": [
    "data_france = get_covid_data(path=args['data_covid'])\n",
    "data_france.head()"
   ]
  },
  {
   "cell_type": "code",
   "execution_count": 11,
   "metadata": {},
   "outputs": [
    {
     "output_type": "execute_result",
     "data": {
      "text/plain": [
       "      Débit horaire  Taux d'occupation                  datetime  year  month  \\\n",
       "9472          593.0            3.71611 2020-11-29 19:00:00+00:00  2020     11   \n",
       "9473          453.0            2.26667 2020-11-29 20:00:00+00:00  2020     11   \n",
       "9474          390.0            1.80445 2020-11-29 21:00:00+00:00  2020     11   \n",
       "9475          185.0            1.37056 2020-11-29 22:00:00+00:00  2020     11   \n",
       "9476          166.0            1.15500 2020-11-29 23:00:00+00:00  2020     11   \n",
       "\n",
       "      day  hour  dayofweek       Date  C1_School closing  \\\n",
       "9472   29    19          6 2020-11-29                2.0   \n",
       "9473   29    20          6 2020-11-29                2.0   \n",
       "9474   29    21          6 2020-11-29                2.0   \n",
       "9475   29    22          6 2020-11-29                2.0   \n",
       "9476   29    23          6 2020-11-29                2.0   \n",
       "\n",
       "      C2_Workplace closing  C3_Cancel public events  \\\n",
       "9472                   2.0                      2.0   \n",
       "9473                   2.0                      2.0   \n",
       "9474                   2.0                      2.0   \n",
       "9475                   2.0                      2.0   \n",
       "9476                   2.0                      2.0   \n",
       "\n",
       "      C4_Restrictions on gatherings  C5_Close public transport  \\\n",
       "9472                            4.0                        0.0   \n",
       "9473                            4.0                        0.0   \n",
       "9474                            4.0                        0.0   \n",
       "9475                            4.0                        0.0   \n",
       "9476                            4.0                        0.0   \n",
       "\n",
       "      C6_Stay at home requirements  C7_Restrictions on internal movement  \\\n",
       "9472                           2.0                                   2.0   \n",
       "9473                           2.0                                   2.0   \n",
       "9474                           2.0                                   2.0   \n",
       "9475                           2.0                                   2.0   \n",
       "9476                           2.0                                   2.0   \n",
       "\n",
       "      StringencyLegacyIndexForDisplay  ContainmentHealthIndexForDisplay  \n",
       "9472                             75.0                             80.21  \n",
       "9473                             75.0                             80.21  \n",
       "9474                             75.0                             80.21  \n",
       "9475                             75.0                             80.21  \n",
       "9476                             75.0                             80.21  "
      ],
      "text/html": "<div>\n<style scoped>\n    .dataframe tbody tr th:only-of-type {\n        vertical-align: middle;\n    }\n\n    .dataframe tbody tr th {\n        vertical-align: top;\n    }\n\n    .dataframe thead th {\n        text-align: right;\n    }\n</style>\n<table border=\"1\" class=\"dataframe\">\n  <thead>\n    <tr style=\"text-align: right;\">\n      <th></th>\n      <th>Débit horaire</th>\n      <th>Taux d'occupation</th>\n      <th>datetime</th>\n      <th>year</th>\n      <th>month</th>\n      <th>day</th>\n      <th>hour</th>\n      <th>dayofweek</th>\n      <th>Date</th>\n      <th>C1_School closing</th>\n      <th>C2_Workplace closing</th>\n      <th>C3_Cancel public events</th>\n      <th>C4_Restrictions on gatherings</th>\n      <th>C5_Close public transport</th>\n      <th>C6_Stay at home requirements</th>\n      <th>C7_Restrictions on internal movement</th>\n      <th>StringencyLegacyIndexForDisplay</th>\n      <th>ContainmentHealthIndexForDisplay</th>\n    </tr>\n  </thead>\n  <tbody>\n    <tr>\n      <th>9472</th>\n      <td>593.0</td>\n      <td>3.71611</td>\n      <td>2020-11-29 19:00:00+00:00</td>\n      <td>2020</td>\n      <td>11</td>\n      <td>29</td>\n      <td>19</td>\n      <td>6</td>\n      <td>2020-11-29</td>\n      <td>2.0</td>\n      <td>2.0</td>\n      <td>2.0</td>\n      <td>4.0</td>\n      <td>0.0</td>\n      <td>2.0</td>\n      <td>2.0</td>\n      <td>75.0</td>\n      <td>80.21</td>\n    </tr>\n    <tr>\n      <th>9473</th>\n      <td>453.0</td>\n      <td>2.26667</td>\n      <td>2020-11-29 20:00:00+00:00</td>\n      <td>2020</td>\n      <td>11</td>\n      <td>29</td>\n      <td>20</td>\n      <td>6</td>\n      <td>2020-11-29</td>\n      <td>2.0</td>\n      <td>2.0</td>\n      <td>2.0</td>\n      <td>4.0</td>\n      <td>0.0</td>\n      <td>2.0</td>\n      <td>2.0</td>\n      <td>75.0</td>\n      <td>80.21</td>\n    </tr>\n    <tr>\n      <th>9474</th>\n      <td>390.0</td>\n      <td>1.80445</td>\n      <td>2020-11-29 21:00:00+00:00</td>\n      <td>2020</td>\n      <td>11</td>\n      <td>29</td>\n      <td>21</td>\n      <td>6</td>\n      <td>2020-11-29</td>\n      <td>2.0</td>\n      <td>2.0</td>\n      <td>2.0</td>\n      <td>4.0</td>\n      <td>0.0</td>\n      <td>2.0</td>\n      <td>2.0</td>\n      <td>75.0</td>\n      <td>80.21</td>\n    </tr>\n    <tr>\n      <th>9475</th>\n      <td>185.0</td>\n      <td>1.37056</td>\n      <td>2020-11-29 22:00:00+00:00</td>\n      <td>2020</td>\n      <td>11</td>\n      <td>29</td>\n      <td>22</td>\n      <td>6</td>\n      <td>2020-11-29</td>\n      <td>2.0</td>\n      <td>2.0</td>\n      <td>2.0</td>\n      <td>4.0</td>\n      <td>0.0</td>\n      <td>2.0</td>\n      <td>2.0</td>\n      <td>75.0</td>\n      <td>80.21</td>\n    </tr>\n    <tr>\n      <th>9476</th>\n      <td>166.0</td>\n      <td>1.15500</td>\n      <td>2020-11-29 23:00:00+00:00</td>\n      <td>2020</td>\n      <td>11</td>\n      <td>29</td>\n      <td>23</td>\n      <td>6</td>\n      <td>2020-11-29</td>\n      <td>2.0</td>\n      <td>2.0</td>\n      <td>2.0</td>\n      <td>4.0</td>\n      <td>0.0</td>\n      <td>2.0</td>\n      <td>2.0</td>\n      <td>75.0</td>\n      <td>80.21</td>\n    </tr>\n  </tbody>\n</table>\n</div>"
     },
     "metadata": {},
     "execution_count": 11
    }
   ],
   "source": [
    "data_convention_covid = add_covid_data(data_convention, data_france)\n",
    "data_champs_covid = add_covid_data(data_champs, data_france)\n",
    "data_peres_covid = add_covid_data(data_peres, data_france)\n",
    "\n",
    "data_convention_covid.tail()"
   ]
  },
  {
   "source": [
    "## Add Holiday data"
   ],
   "cell_type": "markdown",
   "metadata": {}
  },
  {
   "cell_type": "code",
   "execution_count": 12,
   "metadata": {},
   "outputs": [],
   "source": [
    "data_vacance_scolaire ,data_jours_feries = get_holidays_data(path=args[\"data_holidays\"])"
   ]
  },
  {
   "cell_type": "code",
   "execution_count": 13,
   "metadata": {},
   "outputs": [],
   "source": [
    "data_champs_covid_holidays = add_jours_feries(data_champs_covid, data_jours_feries)\n",
    "data_convention_covid_holidays = add_jours_feries(data_convention_covid, data_jours_feries)\n",
    "data_peres_covid_holidays = add_jours_feries(data_peres_covid, data_jours_feries)"
   ]
  },
  {
   "cell_type": "code",
   "execution_count": 14,
   "metadata": {},
   "outputs": [],
   "source": [
    "data_champs_covid_holidays = add_school_holidays(data_champs_covid_holidays)\n",
    "data_convention_covid_holidays = add_school_holidays(data_convention_covid_holidays)\n",
    "data_peres_covid_holidays = add_school_holidays(data_peres_covid_holidays)"
   ]
  },
  {
   "source": [
    "## Add Meteo data"
   ],
   "cell_type": "markdown",
   "metadata": {}
  },
  {
   "source": [
    "## Save data"
   ],
   "cell_type": "markdown",
   "metadata": {}
  },
  {
   "cell_type": "code",
   "execution_count": 19,
   "metadata": {},
   "outputs": [],
   "source": [
    "data_champs_covid_holidays.to_csv(os.path.join(args['output'], 'final_champs.csv'), sep=';')\n",
    "data_convention_covid_holidays.to_csv(os.path.join(args['output'], 'final_convention.csv'), sep=';')\n",
    "data_peres_covid_holidays.to_csv(os.path.join(args['output'], 'final_peres.csv'), sep=';')"
   ]
  },
  {
   "cell_type": "code",
   "execution_count": null,
   "metadata": {},
   "outputs": [],
   "source": []
  }
 ]
}